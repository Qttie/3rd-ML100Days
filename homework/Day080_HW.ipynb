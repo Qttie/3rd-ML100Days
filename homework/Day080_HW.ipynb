{
 "cells": [
  {
   "cell_type": "markdown",
   "metadata": {},
   "source": [
    "# 請結合前面的知識與程式碼，比較不同的 optimizer 與 learning rate 組合對訓練的結果與影響\n",
    "### 常見的 optimizer 包含\n",
    "* SGD\n",
    "* RMSprop\n",
    "* AdaGrad\n",
    "* Adam"
   ]
  },
  {
   "cell_type": "code",
   "execution_count": 4,
   "metadata": {},
   "outputs": [],
   "source": [
    "import os\n",
    "import keras\n",
    "\n",
    "# Disable GPU\n",
    "os.environ[\"CUDA_VISIBLE_DEVICES\"] = \"gpu\""
   ]
  },
  {
   "cell_type": "code",
   "execution_count": 5,
   "metadata": {},
   "outputs": [],
   "source": [
    "train, test = keras.datasets.cifar10.load_data()"
   ]
  },
  {
   "cell_type": "code",
   "execution_count": 6,
   "metadata": {},
   "outputs": [],
   "source": [
    "## 資料前處理\n",
    "def preproc_x(x, flatten=True):\n",
    "    x = x / 255.\n",
    "    if flatten:\n",
    "        x = x.reshape((len(x), -1))\n",
    "    return x\n",
    "\n",
    "def preproc_y(y, num_classes=10):\n",
    "    if y.shape[-1] == 1:\n",
    "        y = keras.utils.to_categorical(y, num_classes)\n",
    "    return y"
   ]
  },
  {
   "cell_type": "code",
   "execution_count": 7,
   "metadata": {},
   "outputs": [],
   "source": [
    "x_train, y_train = train\n",
    "x_test, y_test = test\n",
    "\n",
    "# Preproc the inputs\n",
    "x_train = preproc_x(x_train)\n",
    "x_test = preproc_x(x_test)\n",
    "\n",
    "# Preprc the outputs\n",
    "y_train = preproc_y(y_train)\n",
    "y_test = preproc_y(y_test)"
   ]
  },
  {
   "cell_type": "code",
   "execution_count": 8,
   "metadata": {},
   "outputs": [],
   "source": [
    "def build_mlp(input_shape, output_units=10, num_neurons=[512, 256, 128]):\n",
    "    input_layer = keras.layers.Input(input_shape)\n",
    "    \n",
    "    for i, n_units in enumerate(num_neurons):\n",
    "        if i == 0:\n",
    "            x = keras.layers.Dense(units=n_units, activation=\"relu\", name=\"hidden_layer\"+str(i+1))(input_layer)\n",
    "        else:\n",
    "            x = keras.layers.Dense(units=n_units, activation=\"relu\", name=\"hidden_layer\"+str(i+1))(x)\n",
    "    \n",
    "    out = keras.layers.Dense(units=output_units, activation=\"softmax\", name=\"output\")(x)\n",
    "    \n",
    "    model = keras.models.Model(inputs=[input_layer], outputs=[out])\n",
    "    return model"
   ]
  },
  {
   "cell_type": "code",
   "execution_count": 9,
   "metadata": {},
   "outputs": [],
   "source": [
    "## 超參數設定\n",
    "\"\"\"\n",
    "Set your required experiment parameters\n",
    "\"\"\"\n",
    "LEARNING_RATE = [1e-1, 1e-2, 1e-3, 1e-4, 1e-5]\n",
    "EPOCHS = 50\n",
    "BATCH_SIZE = 256\n",
    "MOMENTUM = 0.95"
   ]
  },
  {
   "cell_type": "code",
   "execution_count": 11,
   "metadata": {
    "scrolled": true
   },
   "outputs": [
    {
     "name": "stdout",
     "output_type": "stream",
     "text": [
      "Experiment with LR = 0.100000\n",
      "Model: \"model_1\"\n",
      "_________________________________________________________________\n",
      "Layer (type)                 Output Shape              Param #   \n",
      "=================================================================\n",
      "input_1 (InputLayer)         (None, 3072)              0         \n",
      "_________________________________________________________________\n",
      "hidden_layer1 (Dense)        (None, 512)               1573376   \n",
      "_________________________________________________________________\n",
      "hidden_layer2 (Dense)        (None, 256)               131328    \n",
      "_________________________________________________________________\n",
      "hidden_layer3 (Dense)        (None, 128)               32896     \n",
      "_________________________________________________________________\n",
      "output (Dense)               (None, 10)                1290      \n",
      "=================================================================\n",
      "Total params: 1,738,890\n",
      "Trainable params: 1,738,890\n",
      "Non-trainable params: 0\n",
      "_________________________________________________________________\n",
      "Train on 50000 samples, validate on 10000 samples\n",
      "Epoch 1/50\n",
      "50000/50000 [==============================] - 4s 83us/step - loss: 2.0853 - accuracy: 0.2245 - val_loss: 1.9376 - val_accuracy: 0.2900\n",
      "Epoch 2/50\n",
      "50000/50000 [==============================] - 4s 81us/step - loss: 1.8265 - accuracy: 0.3333 - val_loss: 1.7700 - val_accuracy: 0.3533\n",
      "Epoch 3/50\n",
      "50000/50000 [==============================] - 4s 81us/step - loss: 1.7628 - accuracy: 0.3597 - val_loss: 2.0471 - val_accuracy: 0.2600\n",
      "Epoch 4/50\n",
      "50000/50000 [==============================] - 4s 81us/step - loss: 1.7381 - accuracy: 0.3698 - val_loss: 1.8723 - val_accuracy: 0.3309\n",
      "Epoch 5/50\n",
      "50000/50000 [==============================] - 4s 81us/step - loss: 1.7081 - accuracy: 0.3839 - val_loss: 1.7083 - val_accuracy: 0.3861\n",
      "Epoch 6/50\n",
      "50000/50000 [==============================] - 4s 81us/step - loss: 1.6879 - accuracy: 0.3936 - val_loss: 1.6840 - val_accuracy: 0.3932\n",
      "Epoch 7/50\n",
      "50000/50000 [==============================] - 4s 81us/step - loss: 1.6773 - accuracy: 0.3955 - val_loss: 1.8613 - val_accuracy: 0.3429\n",
      "Epoch 8/50\n",
      "50000/50000 [==============================] - 4s 81us/step - loss: 1.6691 - accuracy: 0.4010 - val_loss: 1.7271 - val_accuracy: 0.3786\n",
      "Epoch 9/50\n",
      "50000/50000 [==============================] - 4s 81us/step - loss: 1.6564 - accuracy: 0.4027 - val_loss: 1.7117 - val_accuracy: 0.3955\n",
      "Epoch 10/50\n",
      "50000/50000 [==============================] - 4s 81us/step - loss: 1.6434 - accuracy: 0.4095 - val_loss: 1.7478 - val_accuracy: 0.3763\n",
      "Epoch 11/50\n",
      "50000/50000 [==============================] - 4s 81us/step - loss: 1.6384 - accuracy: 0.4129 - val_loss: 1.7285 - val_accuracy: 0.3892\n",
      "Epoch 12/50\n",
      "50000/50000 [==============================] - 4s 81us/step - loss: 1.6196 - accuracy: 0.4180 - val_loss: 1.7354 - val_accuracy: 0.3870\n",
      "Epoch 13/50\n",
      "50000/50000 [==============================] - 4s 81us/step - loss: 1.6176 - accuracy: 0.4189 - val_loss: 1.6950 - val_accuracy: 0.3912\n",
      "Epoch 14/50\n",
      "50000/50000 [==============================] - 4s 81us/step - loss: 1.6185 - accuracy: 0.4235 - val_loss: 1.6929 - val_accuracy: 0.3843\n",
      "Epoch 15/50\n",
      "50000/50000 [==============================] - 4s 81us/step - loss: 1.5996 - accuracy: 0.4253 - val_loss: 1.7117 - val_accuracy: 0.3931\n",
      "Epoch 16/50\n",
      "50000/50000 [==============================] - 4s 81us/step - loss: 1.5903 - accuracy: 0.4315 - val_loss: 1.6661 - val_accuracy: 0.4168\n",
      "Epoch 17/50\n",
      "50000/50000 [==============================] - 4s 81us/step - loss: 1.5833 - accuracy: 0.4344 - val_loss: 1.6856 - val_accuracy: 0.4037\n",
      "Epoch 18/50\n",
      "50000/50000 [==============================] - 4s 81us/step - loss: 1.5784 - accuracy: 0.4380 - val_loss: 1.8056 - val_accuracy: 0.3727\n",
      "Epoch 19/50\n",
      "50000/50000 [==============================] - 4s 81us/step - loss: 1.5769 - accuracy: 0.4384 - val_loss: 1.6047 - val_accuracy: 0.4306\n",
      "Epoch 20/50\n",
      "50000/50000 [==============================] - 4s 82us/step - loss: 1.5614 - accuracy: 0.4449 - val_loss: 1.7076 - val_accuracy: 0.3920\n",
      "Epoch 21/50\n",
      "50000/50000 [==============================] - 4s 81us/step - loss: 1.5583 - accuracy: 0.4479 - val_loss: 1.6525 - val_accuracy: 0.4261\n",
      "Epoch 22/50\n",
      "50000/50000 [==============================] - 4s 81us/step - loss: 1.5541 - accuracy: 0.4502 - val_loss: 1.6176 - val_accuracy: 0.4350\n",
      "Epoch 23/50\n",
      "50000/50000 [==============================] - 4s 81us/step - loss: 1.5364 - accuracy: 0.4541 - val_loss: 1.6275 - val_accuracy: 0.4194\n",
      "Epoch 24/50\n",
      "50000/50000 [==============================] - 4s 81us/step - loss: 1.5337 - accuracy: 0.4570 - val_loss: 1.6229 - val_accuracy: 0.4313\n",
      "Epoch 25/50\n",
      "50000/50000 [==============================] - 4s 81us/step - loss: 1.5341 - accuracy: 0.4547 - val_loss: 1.6811 - val_accuracy: 0.4069\n",
      "Epoch 26/50\n",
      "50000/50000 [==============================] - 4s 81us/step - loss: 1.5407 - accuracy: 0.4541 - val_loss: 1.7120 - val_accuracy: 0.4002\n",
      "Epoch 27/50\n",
      "50000/50000 [==============================] - 4s 81us/step - loss: 1.5218 - accuracy: 0.4605 - val_loss: 1.6319 - val_accuracy: 0.4182\n",
      "Epoch 28/50\n",
      "50000/50000 [==============================] - 4s 81us/step - loss: 1.5271 - accuracy: 0.4606 - val_loss: 1.6618 - val_accuracy: 0.4231\n",
      "Epoch 29/50\n",
      "50000/50000 [==============================] - 4s 81us/step - loss: 1.5119 - accuracy: 0.4663 - val_loss: 1.6226 - val_accuracy: 0.4323\n",
      "Epoch 30/50\n",
      "50000/50000 [==============================] - 4s 81us/step - loss: 1.5067 - accuracy: 0.4686 - val_loss: 1.6097 - val_accuracy: 0.4351\n",
      "Epoch 31/50\n",
      "50000/50000 [==============================] - 4s 81us/step - loss: 1.4999 - accuracy: 0.4680 - val_loss: 1.6885 - val_accuracy: 0.4121\n",
      "Epoch 32/50\n",
      "50000/50000 [==============================] - 4s 81us/step - loss: 1.4986 - accuracy: 0.4690 - val_loss: 1.6483 - val_accuracy: 0.4246\n",
      "Epoch 33/50\n",
      "50000/50000 [==============================] - 4s 81us/step - loss: 1.4901 - accuracy: 0.4712 - val_loss: 1.6708 - val_accuracy: 0.4237\n",
      "Epoch 34/50\n",
      "50000/50000 [==============================] - 4s 81us/step - loss: 1.4872 - accuracy: 0.4742 - val_loss: 1.7143 - val_accuracy: 0.4198\n",
      "Epoch 35/50\n",
      "50000/50000 [==============================] - 4s 81us/step - loss: 1.4805 - accuracy: 0.4754 - val_loss: 1.7689 - val_accuracy: 0.4042\n",
      "Epoch 36/50\n",
      "50000/50000 [==============================] - 4s 81us/step - loss: 1.4724 - accuracy: 0.4802 - val_loss: 1.7029 - val_accuracy: 0.4076\n",
      "Epoch 37/50\n",
      "50000/50000 [==============================] - 4s 81us/step - loss: 1.4725 - accuracy: 0.4789 - val_loss: 1.6401 - val_accuracy: 0.4310\n",
      "Epoch 38/50\n",
      "50000/50000 [==============================] - 4s 81us/step - loss: 1.4786 - accuracy: 0.4787 - val_loss: 1.6704 - val_accuracy: 0.4225\n",
      "Epoch 39/50\n",
      "50000/50000 [==============================] - 4s 81us/step - loss: 1.4700 - accuracy: 0.4821 - val_loss: 1.6566 - val_accuracy: 0.4254\n",
      "Epoch 40/50\n",
      "50000/50000 [==============================] - 4s 81us/step - loss: 1.4625 - accuracy: 0.4826 - val_loss: 1.6362 - val_accuracy: 0.4377\n",
      "Epoch 41/50\n",
      "50000/50000 [==============================] - 4s 82us/step - loss: 1.4466 - accuracy: 0.4925 - val_loss: 1.5824 - val_accuracy: 0.4494\n",
      "Epoch 42/50\n",
      "50000/50000 [==============================] - 4s 82us/step - loss: 1.4533 - accuracy: 0.4873 - val_loss: 1.6252 - val_accuracy: 0.4423\n",
      "Epoch 43/50\n",
      "50000/50000 [==============================] - 4s 81us/step - loss: 1.4485 - accuracy: 0.4890 - val_loss: 1.6587 - val_accuracy: 0.4317\n",
      "Epoch 44/50\n",
      "50000/50000 [==============================] - 4s 82us/step - loss: 1.4488 - accuracy: 0.4881 - val_loss: 1.6198 - val_accuracy: 0.4472\n",
      "Epoch 45/50\n",
      "50000/50000 [==============================] - 4s 81us/step - loss: 1.4398 - accuracy: 0.4950 - val_loss: 1.6366 - val_accuracy: 0.4383\n",
      "Epoch 46/50\n",
      "50000/50000 [==============================] - 4s 81us/step - loss: 1.4438 - accuracy: 0.4923 - val_loss: 1.7277 - val_accuracy: 0.4042\n",
      "Epoch 47/50\n",
      "50000/50000 [==============================] - 4s 81us/step - loss: 1.4338 - accuracy: 0.4991 - val_loss: 1.7459 - val_accuracy: 0.4125\n",
      "Epoch 48/50\n",
      "50000/50000 [==============================] - 4s 82us/step - loss: 1.4481 - accuracy: 0.4907 - val_loss: 1.6273 - val_accuracy: 0.4530\n",
      "Epoch 49/50\n"
     ]
    },
    {
     "name": "stdout",
     "output_type": "stream",
     "text": [
      "50000/50000 [==============================] - 4s 81us/step - loss: 1.4328 - accuracy: 0.4962 - val_loss: 1.6352 - val_accuracy: 0.4361\n",
      "Epoch 50/50\n",
      "50000/50000 [==============================] - 4s 81us/step - loss: 1.4205 - accuracy: 0.5002 - val_loss: 1.6963 - val_accuracy: 0.4150\n"
     ]
    },
    {
     "ename": "NameError",
     "evalue": "name 'results' is not defined",
     "output_type": "error",
     "traceback": [
      "\u001b[1;31m---------------------------------------------------------------------------\u001b[0m",
      "\u001b[1;31mNameError\u001b[0m                                 Traceback (most recent call last)",
      "\u001b[1;32m<ipython-input-11-92d6e2382bed>\u001b[0m in \u001b[0;36m<module>\u001b[1;34m\u001b[0m\n\u001b[0;32m     23\u001b[0m                              \u001b[1;34m'valid-loss'\u001b[0m\u001b[1;33m:\u001b[0m \u001b[0mvalid_loss\u001b[0m\u001b[1;33m,\u001b[0m\u001b[1;33m\u001b[0m\u001b[1;33m\u001b[0m\u001b[0m\n\u001b[0;32m     24\u001b[0m                              \u001b[1;34m'train-acc'\u001b[0m\u001b[1;33m:\u001b[0m \u001b[0mtrain_acc\u001b[0m\u001b[1;33m,\u001b[0m\u001b[1;33m\u001b[0m\u001b[1;33m\u001b[0m\u001b[0m\n\u001b[1;32m---> 25\u001b[1;33m                              'valid-acc': valid_acc}\n\u001b[0m",
      "\u001b[1;31mNameError\u001b[0m: name 'results' is not defined"
     ]
    }
   ],
   "source": [
    "\n",
    "for lr in LEARNING_RATE:\n",
    "    keras.backend.clear_session() # 把舊的 Graph 清掉\n",
    "    print(\"Experiment with LR = %.6f\" % (lr))\n",
    "    model = build_mlp(input_shape=x_train.shape[1:])\n",
    "    model.summary()\n",
    "    optimizer = keras.optimizers.SGD(lr=lr, nesterov=True, momentum=MOMENTUM)\n",
    "    model.compile(loss=\"categorical_crossentropy\", metrics=[\"accuracy\"], optimizer=optimizer)\n",
    "\n",
    "    model.fit(x_train, y_train, \n",
    "              epochs=EPOCHS, \n",
    "              batch_size=BATCH_SIZE, \n",
    "              validation_data=(x_test, y_test), \n",
    "              shuffle=True)\n",
    "    \n",
    "    # Collect results\n",
    "    train_loss = model.history.history[\"loss\"]\n",
    "    valid_loss = model.history.history[\"val_loss\"]\n",
    "    train_acc = model.history.history[\"accuracy\"]\n",
    "    valid_acc = model.history.history[\"val_accuracy\"]\n",
    "    \n",
    "    exp_name_tag = \"exp-lr-%s\" % str(lr)\n",
    "    results[exp_name_tag] = {'train-loss': train_loss,\n",
    "                             'valid-loss': valid_loss,\n",
    "                             'train-acc': train_acc,\n",
    "                             'valid-acc': valid_acc}"
   ]
  },
  {
   "cell_type": "code",
   "execution_count": 12,
   "metadata": {},
   "outputs": [
    {
     "data": {
      "text/plain": [
       "[<matplotlib.lines.Line2D at 0x1214d101448>]"
      ]
     },
     "execution_count": 12,
     "metadata": {},
     "output_type": "execute_result"
    },
    {
     "data": {
      "image/png": "[encoded data removed]",
      "text/plain": [
       "<Figure size 720x360 with 1 Axes>"
      ]
     },
     "metadata": {
      "needs_background": "light"
     },
     "output_type": "display_data"
    }
   ],
   "source": [
    "import matplotlib.pyplot as plt\n",
    "%matplotlib inline\n",
    "plt.subplots(figsize=(10,5))\n",
    "plt.plot(range(len(train_loss)),train_loss)#, '-', label=cond, color=color_bar[i])\n",
    "plt.plot(range(len(valid_loss)),valid_loss)\n",
    "#plt.plot(range(len(results[cond]['valid-loss'])),results[cond]['valid-loss'], '--', label=cond, color=color_bar[i]"
   ]
  },
  {
   "cell_type": "code",
   "execution_count": null,
   "metadata": {},
   "outputs": [],
   "source": []
  }
 ],
 "metadata": {
  "kernelspec": {
   "display_name": "Python 3",
   "language": "python",
   "name": "python3"
  },
  "language_info": {
   "codemirror_mode": {
    "name": "ipython",
    "version": 3
   },
   "file_extension": ".py",
   "mimetype": "text/x-python",
   "name": "python",
   "nbconvert_exporter": "python",
   "pygments_lexer": "ipython3",
   "version": "3.7.4"
  }
 },
 "nbformat": 4,
 "nbformat_minor": 2
}
