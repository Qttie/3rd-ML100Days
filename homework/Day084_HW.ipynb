{
 "cells": [
  {
   "cell_type": "markdown",
   "metadata": {},
   "source": [
    "## Work\n",
    "### 請結合前面的知識與程式碼，比較不同的 regularization 的組合對訓練的結果與影響：如 dropout, regularizers, batch-normalization 等"
   ]
  },
  {
   "cell_type": "code",
   "execution_count": 2,
   "metadata": {},
   "outputs": [
    {
     "name": "stderr",
     "output_type": "stream",
     "text": [
      "Using TensorFlow backend.\n"
     ]
    }
   ],
   "source": [
    "import os\n",
    "import keras\n",
    "import itertools\n",
    "# Disable GPU\n",
    "os.environ[\"CUDA_VISIBLE_DEVICES\"] = \"gpu\""
   ]
  },
  {
   "cell_type": "code",
   "execution_count": 3,
   "metadata": {},
   "outputs": [],
   "source": [
    "train, test = keras.datasets.cifar10.load_data()"
   ]
  },
  {
   "cell_type": "code",
   "execution_count": 4,
   "metadata": {},
   "outputs": [],
   "source": [
    "## 資料前處理\n",
    "def preproc_x(x, flatten=True):\n",
    "    x = x / 255.\n",
    "    if flatten:\n",
    "        x = x.reshape((len(x), -1))\n",
    "    return x\n",
    "\n",
    "def preproc_y(y, num_classes=10):\n",
    "    if y.shape[-1] == 1:\n",
    "        y = keras.utils.to_categorical(y, num_classes)\n",
    "    return y    "
   ]
  },
  {
   "cell_type": "code",
   "execution_count": 5,
   "metadata": {},
   "outputs": [],
   "source": [
    "x_train, y_train = train\n",
    "x_test, y_test = test\n",
    "\n",
    "# Preproc the inputs\n",
    "x_train = preproc_x(x_train)\n",
    "x_test = preproc_x(x_test)\n",
    "\n",
    "# Preprc the outputs\n",
    "y_train = preproc_y(y_train)\n",
    "y_test = preproc_y(y_test)"
   ]
  },
  {
   "cell_type": "code",
   "execution_count": 6,
   "metadata": {},
   "outputs": [],
   "source": [
    "from keras.layers import BatchNormalization\n",
    "\n",
    "\"\"\"\n",
    "建立神經網路，並加入 BN layer\n",
    "\"\"\"\n",
    "def build_mlp(input_shape, output_units=10, num_neurons=[512, 256, 128]):\n",
    "    input_layer = keras.layers.Input(input_shape)\n",
    "    \n",
    "    for i, n_units in enumerate(num_neurons):\n",
    "        if i == 0:\n",
    "            x = keras.layers.Dense(units=n_units, \n",
    "                                   activation=\"relu\", \n",
    "                                   name=\"hidden_layer\"+str(i+1))(input_layer)\n",
    "            x = BatchNormalization()(x)\n",
    "        else:\n",
    "            x = keras.layers.Dense(units=n_units, \n",
    "                                   activation=\"relu\", \n",
    "                                   name=\"hidden_layer\"+str(i+1))(x)\n",
    "            x = BatchNormalization()(x)\n",
    "    \n",
    "    out = keras.layers.Dense(units=output_units, activation=\"softmax\", name=\"output\")(x)\n",
    "    \n",
    "    model = keras.models.Model(inputs=[input_layer], outputs=[out])\n",
    "    return model"
   ]
  },
  {
   "cell_type": "code",
   "execution_count": 7,
   "metadata": {},
   "outputs": [],
   "source": [
    "## 超參數設定\n",
    "LEARNING_RATE = 1e-3\n",
    "EPOCHS = 50\n",
    "BATCH_SIZE = 1024\n",
    "MOMENTUM = 0.95"
   ]
  },
  {
   "cell_type": "code",
   "execution_count": 8,
   "metadata": {
    "scrolled": true
   },
   "outputs": [
    {
     "name": "stdout",
     "output_type": "stream",
     "text": [
      "Model: \"model_1\"\n",
      "_________________________________________________________________\n",
      "Layer (type)                 Output Shape              Param #   \n",
      "=================================================================\n",
      "input_1 (InputLayer)         (None, 3072)              0         \n",
      "_________________________________________________________________\n",
      "hidden_layer1 (Dense)        (None, 512)               1573376   \n",
      "_________________________________________________________________\n",
      "batch_normalization_1 (Batch (None, 512)               2048      \n",
      "_________________________________________________________________\n",
      "hidden_layer2 (Dense)        (None, 256)               131328    \n",
      "_________________________________________________________________\n",
      "batch_normalization_2 (Batch (None, 256)               1024      \n",
      "_________________________________________________________________\n",
      "hidden_layer3 (Dense)        (None, 128)               32896     \n",
      "_________________________________________________________________\n",
      "batch_normalization_3 (Batch (None, 128)               512       \n",
      "_________________________________________________________________\n",
      "output (Dense)               (None, 10)                1290      \n",
      "=================================================================\n",
      "Total params: 1,742,474\n",
      "Trainable params: 1,740,682\n",
      "Non-trainable params: 1,792\n",
      "_________________________________________________________________\n",
      "Train on 50000 samples, validate on 10000 samples\n",
      "Epoch 1/50\n",
      "50000/50000 [==============================] - 4s 70us/step - loss: 2.2239 - accuracy: 0.2690 - val_loss: 2.1659 - val_accuracy: 0.1911\n",
      "Epoch 2/50\n",
      "50000/50000 [==============================] - 3s 63us/step - loss: 1.7414 - accuracy: 0.3948 - val_loss: 1.9946 - val_accuracy: 0.2787\n",
      "Epoch 3/50\n",
      "50000/50000 [==============================] - 3s 62us/step - loss: 1.6139 - accuracy: 0.4334 - val_loss: 1.8498 - val_accuracy: 0.3524\n",
      "Epoch 4/50\n",
      "50000/50000 [==============================] - 3s 62us/step - loss: 1.5386 - accuracy: 0.4608 - val_loss: 1.7389 - val_accuracy: 0.3916\n",
      "Epoch 5/50\n",
      "50000/50000 [==============================] - 3s 62us/step - loss: 1.4828 - accuracy: 0.4804 - val_loss: 1.6590 - val_accuracy: 0.4169\n",
      "Epoch 6/50\n",
      "50000/50000 [==============================] - 3s 62us/step - loss: 1.4357 - accuracy: 0.4989 - val_loss: 1.6012 - val_accuracy: 0.4365\n",
      "Epoch 7/50\n",
      "50000/50000 [==============================] - 3s 62us/step - loss: 1.3957 - accuracy: 0.5121 - val_loss: 1.5481 - val_accuracy: 0.4520\n",
      "Epoch 8/50\n",
      "50000/50000 [==============================] - 3s 61us/step - loss: 1.3608 - accuracy: 0.5272 - val_loss: 1.5249 - val_accuracy: 0.4543\n",
      "Epoch 9/50\n",
      "50000/50000 [==============================] - 3s 61us/step - loss: 1.3260 - accuracy: 0.5402 - val_loss: 1.5061 - val_accuracy: 0.4647\n",
      "Epoch 10/50\n",
      "50000/50000 [==============================] - 3s 62us/step - loss: 1.2971 - accuracy: 0.5508 - val_loss: 1.5010 - val_accuracy: 0.4708\n",
      "Epoch 11/50\n",
      "50000/50000 [==============================] - 3s 62us/step - loss: 1.2683 - accuracy: 0.5616 - val_loss: 1.4869 - val_accuracy: 0.4767\n",
      "Epoch 12/50\n",
      "50000/50000 [==============================] - 3s 61us/step - loss: 1.2398 - accuracy: 0.5715 - val_loss: 1.4791 - val_accuracy: 0.4756\n",
      "Epoch 13/50\n",
      "50000/50000 [==============================] - 3s 62us/step - loss: 1.2138 - accuracy: 0.5820 - val_loss: 1.4674 - val_accuracy: 0.4822\n",
      "Epoch 14/50\n",
      "50000/50000 [==============================] - 3s 62us/step - loss: 1.1883 - accuracy: 0.5911 - val_loss: 1.4635 - val_accuracy: 0.4882\n",
      "Epoch 15/50\n",
      "50000/50000 [==============================] - 3s 61us/step - loss: 1.1640 - accuracy: 0.5999 - val_loss: 1.4614 - val_accuracy: 0.4939\n",
      "Epoch 16/50\n",
      "50000/50000 [==============================] - 3s 61us/step - loss: 1.1387 - accuracy: 0.6090 - val_loss: 1.4527 - val_accuracy: 0.4870\n",
      "Epoch 17/50\n",
      "50000/50000 [==============================] - 3s 62us/step - loss: 1.1150 - accuracy: 0.6182 - val_loss: 1.4613 - val_accuracy: 0.4931\n",
      "Epoch 18/50\n",
      "50000/50000 [==============================] - 3s 61us/step - loss: 1.0929 - accuracy: 0.6248 - val_loss: 1.4577 - val_accuracy: 0.4890\n",
      "Epoch 19/50\n",
      "50000/50000 [==============================] - 3s 62us/step - loss: 1.0700 - accuracy: 0.6350 - val_loss: 1.4604 - val_accuracy: 0.4927\n",
      "Epoch 20/50\n",
      "50000/50000 [==============================] - 3s 61us/step - loss: 1.0492 - accuracy: 0.6428 - val_loss: 1.4556 - val_accuracy: 0.4947\n",
      "Epoch 21/50\n",
      "50000/50000 [==============================] - 3s 62us/step - loss: 1.0265 - accuracy: 0.6512 - val_loss: 1.4564 - val_accuracy: 0.4937\n",
      "Epoch 22/50\n",
      "50000/50000 [==============================] - 3s 62us/step - loss: 1.0060 - accuracy: 0.6588 - val_loss: 1.4530 - val_accuracy: 0.4941\n",
      "Epoch 23/50\n",
      "50000/50000 [==============================] - 3s 61us/step - loss: 0.9858 - accuracy: 0.6675 - val_loss: 1.4617 - val_accuracy: 0.4950\n",
      "Epoch 24/50\n",
      "50000/50000 [==============================] - 3s 63us/step - loss: 0.9642 - accuracy: 0.6752 - val_loss: 1.4693 - val_accuracy: 0.4905\n",
      "Epoch 25/50\n",
      "50000/50000 [==============================] - 3s 63us/step - loss: 0.9432 - accuracy: 0.6837 - val_loss: 1.4648 - val_accuracy: 0.5009\n",
      "Epoch 26/50\n",
      "50000/50000 [==============================] - 3s 63us/step - loss: 0.9224 - accuracy: 0.6927 - val_loss: 1.4676 - val_accuracy: 0.4983\n",
      "Epoch 27/50\n",
      "50000/50000 [==============================] - 3s 64us/step - loss: 0.9053 - accuracy: 0.6983 - val_loss: 1.4681 - val_accuracy: 0.4915\n",
      "Epoch 28/50\n",
      "50000/50000 [==============================] - 3s 64us/step - loss: 0.8834 - accuracy: 0.7052 - val_loss: 1.4714 - val_accuracy: 0.4955\n",
      "Epoch 29/50\n",
      "50000/50000 [==============================] - 3s 63us/step - loss: 0.8647 - accuracy: 0.7148 - val_loss: 1.4807 - val_accuracy: 0.4978\n",
      "Epoch 30/50\n",
      "50000/50000 [==============================] - 3s 63us/step - loss: 0.8429 - accuracy: 0.7218 - val_loss: 1.4798 - val_accuracy: 0.4949\n",
      "Epoch 31/50\n",
      "50000/50000 [==============================] - 3s 63us/step - loss: 0.8212 - accuracy: 0.7305 - val_loss: 1.5013 - val_accuracy: 0.4891\n",
      "Epoch 32/50\n",
      "50000/50000 [==============================] - 3s 63us/step - loss: 0.8048 - accuracy: 0.7370 - val_loss: 1.5066 - val_accuracy: 0.4987\n",
      "Epoch 33/50\n",
      "50000/50000 [==============================] - 3s 63us/step - loss: 0.7863 - accuracy: 0.7449 - val_loss: 1.5027 - val_accuracy: 0.4955\n",
      "Epoch 34/50\n",
      "50000/50000 [==============================] - 3s 63us/step - loss: 0.7654 - accuracy: 0.7528 - val_loss: 1.5219 - val_accuracy: 0.4949\n",
      "Epoch 35/50\n",
      "50000/50000 [==============================] - 3s 63us/step - loss: 0.7456 - accuracy: 0.7596 - val_loss: 1.5089 - val_accuracy: 0.5019\n",
      "Epoch 36/50\n",
      "50000/50000 [==============================] - 3s 63us/step - loss: 0.7278 - accuracy: 0.7669 - val_loss: 1.5392 - val_accuracy: 0.4975\n",
      "Epoch 37/50\n",
      "50000/50000 [==============================] - 3s 63us/step - loss: 0.7094 - accuracy: 0.7754 - val_loss: 1.5512 - val_accuracy: 0.4973\n",
      "Epoch 38/50\n",
      "50000/50000 [==============================] - 3s 63us/step - loss: 0.6906 - accuracy: 0.7833 - val_loss: 1.5428 - val_accuracy: 0.4975\n",
      "Epoch 39/50\n",
      "50000/50000 [==============================] - 3s 63us/step - loss: 0.6712 - accuracy: 0.7912 - val_loss: 1.5552 - val_accuracy: 0.4932\n",
      "Epoch 40/50\n",
      "50000/50000 [==============================] - 3s 63us/step - loss: 0.6533 - accuracy: 0.7975 - val_loss: 1.5638 - val_accuracy: 0.4930\n",
      "Epoch 41/50\n",
      "50000/50000 [==============================] - 3s 64us/step - loss: 0.6355 - accuracy: 0.8041 - val_loss: 1.5664 - val_accuracy: 0.4942\n",
      "Epoch 42/50\n",
      "50000/50000 [==============================] - 3s 65us/step - loss: 0.6173 - accuracy: 0.8126 - val_loss: 1.5722 - val_accuracy: 0.4982\n",
      "Epoch 43/50\n",
      "50000/50000 [==============================] - 3s 63us/step - loss: 0.6003 - accuracy: 0.8184 - val_loss: 1.5948 - val_accuracy: 0.4957\n",
      "Epoch 44/50\n",
      "50000/50000 [==============================] - 3s 63us/step - loss: 0.5834 - accuracy: 0.8261 - val_loss: 1.6022 - val_accuracy: 0.4966\n",
      "Epoch 45/50\n",
      "50000/50000 [==============================] - 3s 63us/step - loss: 0.5649 - accuracy: 0.8331 - val_loss: 1.6237 - val_accuracy: 0.4951\n",
      "Epoch 46/50\n"
     ]
    },
    {
     "name": "stdout",
     "output_type": "stream",
     "text": [
      "50000/50000 [==============================] - 3s 63us/step - loss: 0.5487 - accuracy: 0.8395 - val_loss: 1.6411 - val_accuracy: 0.4934\n",
      "Epoch 47/50\n",
      "50000/50000 [==============================] - 3s 63us/step - loss: 0.5309 - accuracy: 0.8487 - val_loss: 1.6465 - val_accuracy: 0.4935\n",
      "Epoch 48/50\n",
      "50000/50000 [==============================] - 3s 63us/step - loss: 0.5133 - accuracy: 0.8553 - val_loss: 1.6685 - val_accuracy: 0.4887\n",
      "Epoch 49/50\n",
      "50000/50000 [==============================] - 3s 63us/step - loss: 0.4989 - accuracy: 0.8589 - val_loss: 1.6647 - val_accuracy: 0.4873\n",
      "Epoch 50/50\n",
      "50000/50000 [==============================] - 3s 63us/step - loss: 0.4839 - accuracy: 0.8656 - val_loss: 1.6769 - val_accuracy: 0.4923\n"
     ]
    }
   ],
   "source": [
    "model = build_mlp(input_shape=x_train.shape[1:])\n",
    "model.summary()\n",
    "optimizer = keras.optimizers.SGD(lr=LEARNING_RATE, nesterov=True, momentum=MOMENTUM)\n",
    "model.compile(loss=\"categorical_crossentropy\", metrics=[\"accuracy\"], optimizer=optimizer)\n",
    "\n",
    "model.fit(x_train, y_train, \n",
    "          epochs=EPOCHS, \n",
    "          batch_size=BATCH_SIZE, \n",
    "          validation_data=(x_test, y_test), \n",
    "          shuffle=True)\n",
    "\n",
    "# Collect results\n",
    "train_loss = model.history.history[\"loss\"]\n",
    "valid_loss = model.history.history[\"val_loss\"]\n",
    "train_acc = model.history.history[\"accuracy\"]\n",
    "valid_acc = model.history.history[\"val_accuracy\"]"
   ]
  },
  {
   "cell_type": "code",
   "execution_count": 9,
   "metadata": {},
   "outputs": [
    {
     "data": {
      "image/png": "[encoded data removed]",
      "text/plain": [
       "<Figure size 432x288 with 1 Axes>"
      ]
     },
     "metadata": {
      "needs_background": "light"
     },
     "output_type": "display_data"
    },
    {
     "data": {
      "image/png": "[encoded data removed]",
      "text/plain": [
       "<Figure size 432x288 with 1 Axes>"
      ]
     },
     "metadata": {
      "needs_background": "light"
     },
     "output_type": "display_data"
    }
   ],
   "source": [
    "import matplotlib.pyplot as plt\n",
    "%matplotlib inline\n",
    "\n",
    "plt.plot(range(len(train_loss)), train_loss, label=\"train loss\")\n",
    "plt.plot(range(len(valid_loss)), valid_loss, label=\"valid loss\")\n",
    "plt.legend()\n",
    "plt.title(\"Loss\")\n",
    "plt.show()\n",
    "\n",
    "plt.plot(range(len(train_acc)), train_acc, label=\"train accuracy\")\n",
    "plt.plot(range(len(valid_acc)), valid_acc, label=\"valid accuracy\")\n",
    "plt.legend()\n",
    "plt.title(\"Accuracy\")\n",
    "plt.show()"
   ]
  }
 ],
 "metadata": {
  "kernelspec": {
   "display_name": "Python 3",
   "language": "python",
   "name": "python3"
  },
  "language_info": {
   "codemirror_mode": {
    "name": "ipython",
    "version": 3
   },
   "file_extension": ".py",
   "mimetype": "text/x-python",
   "name": "python",
   "nbconvert_exporter": "python",
   "pygments_lexer": "ipython3",
   "version": "3.7.4"
  }
 },
 "nbformat": 4,
 "nbformat_minor": 2
}
