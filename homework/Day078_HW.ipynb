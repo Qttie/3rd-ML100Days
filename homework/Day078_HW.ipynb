{
 "cells": [
  {
   "cell_type": "markdown",
   "metadata": {},
   "source": [
    "## Work\n",
    "1. 請嘗試將 preproc_x 替換成以每筆資料的 min/max 進行標準化至 -1 ~ 1 間，再進行訓練\n",
    "2. 請嘗試將 mlp 疊更深 (e.g 5~10 層)，進行訓練後觀察 learning curve 的走勢\n",
    "3. (optional) 請改用 GPU 進行訓練 (如果你有 GPU 的話)，比較使用 CPU 與 GPU 的訓練速度"
   ]
  },
  {
   "cell_type": "code",
   "execution_count": 1,
   "metadata": {},
   "outputs": [
    {
     "name": "stdout",
     "output_type": "stream",
     "text": [
      "Mon Dec 16 23:27:38 2019       \n",
      "+-----------------------------------------------------------------------------+\n",
      "| NVIDIA-SMI 441.66       Driver Version: 441.66       CUDA Version: 10.2     |\n",
      "|-------------------------------+----------------------+----------------------+\n",
      "| GPU  Name            TCC/WDDM | Bus-Id        Disp.A | Volatile Uncorr. ECC |\n",
      "| Fan  Temp  Perf  Pwr:Usage/Cap|         Memory-Usage | GPU-Util  Compute M. |\n",
      "|===============================+======================+======================|\n",
      "|   0  GeForce RTX 2060   WDDM  | 00000000:01:00.0  On |                  N/A |\n",
      "| 24%   38C    P8     7W / 160W |   5312MiB /  6144MiB |      5%      Default |\n",
      "+-------------------------------+----------------------+----------------------+\n",
      "                                                                               \n",
      "+-----------------------------------------------------------------------------+\n",
      "| Processes:                                                       GPU Memory |\n",
      "|  GPU       PID   Type   Process name                             Usage      |\n",
      "|=============================================================================|\n",
      "|    0      1136    C+G   Insufficient Permissions                   N/A      |\n",
      "|    0      2124    C+G   ...5n1h2txyewy\\StartMenuExperienceHost.exe N/A      |\n",
      "|    0      2204    C+G   ...tHubDesktop\\app-2.2.4\\GitHubDesktop.exe N/A      |\n",
      "|    0      2892    C+G   ...hell.Experiences.TextInput.InputApp.exe N/A      |\n",
      "|    0      4036      C   C:\\ProgramData\\Anaconda3\\python.exe        N/A      |\n",
      "|    0      4408    C+G   ...6)\\Google\\Chrome\\Application\\chrome.exe N/A      |\n",
      "|    0      5984    C+G   C:\\Windows\\explorer.exe                    N/A      |\n",
      "|    0      6440    C+G   ...dows.Cortana_cw5n1h2txyewy\\SearchUI.exe N/A      |\n",
      "|    0      7220    C+G   ...5.152.0_x64__kzf8qxf38zg5c\\SkypeApp.exe N/A      |\n",
      "|    0      7592    C+G   ...oftEdge_8wekyb3d8bbwe\\MicrosoftEdge.exe N/A      |\n",
      "|    0      8508    C+G   ...x64__8wekyb3d8bbwe\\Microsoft.Photos.exe N/A      |\n",
      "|    0      8632    C+G   ...t_cw5n1h2txyewy\\ShellExperienceHost.exe N/A      |\n",
      "|    0      9096    C+G   ...8.0_x64__8wekyb3d8bbwe\\WinStore.App.exe N/A      |\n",
      "|    0      9768    C+G   C:\\Windows\\System32\\MicrosoftEdgeCP.exe    N/A      |\n",
      "|    0     10504    C+G   ...17311.0_x64__8wekyb3d8bbwe\\Video.UI.exe N/A      |\n",
      "+-----------------------------------------------------------------------------+\n"
     ]
    }
   ],
   "source": [
    "## \n",
    "\"\"\"\n",
    "Your code here (optional)\n",
    "確認硬體資源\n",
    "\"\"\"\n",
    "!nvidia-smi"
   ]
  },
  {
   "cell_type": "code",
   "execution_count": 3,
   "metadata": {},
   "outputs": [],
   "source": [
    "import os\n",
    "import keras\n",
    "\n",
    "# 請嘗試設定 GPU：os.environ\n",
    "os.environ[\"CUDA_VISIBLE_DEVICES\"] = \"GPU\""
   ]
  },
  {
   "cell_type": "code",
   "execution_count": 4,
   "metadata": {},
   "outputs": [],
   "source": [
    "train, test = keras.datasets.cifar10.load_data()"
   ]
  },
  {
   "cell_type": "code",
   "execution_count": 5,
   "metadata": {},
   "outputs": [],
   "source": [
    "## 資料前處理\n",
    "\n",
    "from sklearn import preprocessing\n",
    "mm_scaler = preprocessing.MinMaxScaler(feature_range=(-1, 1))\n",
    "def preproc_x(x, flatten=True):\n",
    "    if flatten:\n",
    "        x = x.reshape((len(x), -1))\n",
    "    x = mm_scaler.fit_transform(x)\n",
    "    return x\n",
    "\n",
    "def preproc_y(y, num_classes=10):\n",
    "    if y.shape[-1] == 1:\n",
    "        y = keras.utils.to_categorical(y, num_classes)\n",
    "    return y\n",
    "\n"
   ]
  },
  {
   "cell_type": "code",
   "execution_count": 6,
   "metadata": {},
   "outputs": [],
   "source": [
    "x_train, y_train = train\n",
    "x_test, y_test = test\n",
    "\n",
    "# Preproc the inputs\n",
    "x_train = preproc_x(x_train)\n",
    "x_test = preproc_x(x_test)\n",
    "\n",
    "# Preprc the outputs\n",
    "y_train = preproc_y(y_train)\n",
    "y_test = preproc_y(y_test)"
   ]
  },
  {
   "cell_type": "code",
   "execution_count": 7,
   "metadata": {},
   "outputs": [
    {
     "name": "stdout",
     "output_type": "stream",
     "text": [
      "Model: \"model_1\"\n",
      "_________________________________________________________________\n",
      "Layer (type)                 Output Shape              Param #   \n",
      "=================================================================\n",
      "input_1 (InputLayer)         (None, 3072)              0         \n",
      "_________________________________________________________________\n",
      "hidden_layer1 (Dense)        (None, 512)               1573376   \n",
      "_________________________________________________________________\n",
      "hidden_layer2 (Dense)        (None, 256)               131328    \n",
      "_________________________________________________________________\n",
      "hidden_layer3 (Dense)        (None, 128)               32896     \n",
      "_________________________________________________________________\n",
      "hidden_layer4 (Dense)        (None, 64)                8256      \n",
      "_________________________________________________________________\n",
      "hidden_layer5 (Dense)        (None, 32)                2080      \n",
      "_________________________________________________________________\n",
      "output (Dense)               (None, 10)                330       \n",
      "=================================================================\n",
      "Total params: 1,748,266\n",
      "Trainable params: 1,748,266\n",
      "Non-trainable params: 0\n",
      "_________________________________________________________________\n"
     ]
    }
   ],
   "source": [
    "def build_mlp(input_shape, output_units=10, num_neurons=[512, 256, 128, 64, 32]):\n",
    "    input_layer = keras.layers.Input(input_shape)\n",
    "    \n",
    "    for i, n_units in enumerate(num_neurons):\n",
    "        if i == 0:\n",
    "            x = keras.layers.Dense(units=n_units, activation=\"relu\", name=\"hidden_layer\"+str(i+1))(input_layer)\n",
    "        else:\n",
    "            x = keras.layers.Dense(units=n_units, activation=\"relu\", name=\"hidden_layer\"+str(i+1))(x)\n",
    "    \n",
    "    out = keras.layers.Dense(units=output_units, activation=\"softmax\", name=\"output\")(x)\n",
    "    \n",
    "    model = keras.models.Model(inputs=[input_layer], outputs=[out])\n",
    "    return model\n",
    "\n",
    "model = build_mlp(input_shape=x_train.shape[1:])\n",
    "model.summary()\n"
   ]
  },
  {
   "cell_type": "code",
   "execution_count": 8,
   "metadata": {},
   "outputs": [],
   "source": [
    "## 超參數設定\n",
    "LEARNING_RATE = 0.001\n",
    "EPOCHS = 100\n",
    "BATCH_SIZE = 256"
   ]
  },
  {
   "cell_type": "code",
   "execution_count": 9,
   "metadata": {},
   "outputs": [],
   "source": [
    "optimizer = keras.optimizers.Adam(lr=LEARNING_RATE)\n",
    "model.compile(loss=\"categorical_crossentropy\", metrics=[\"accuracy\"], optimizer=optimizer)"
   ]
  },
  {
   "cell_type": "code",
   "execution_count": 10,
   "metadata": {},
   "outputs": [
    {
     "name": "stdout",
     "output_type": "stream",
     "text": [
      "Train on 50000 samples, validate on 10000 samples\n",
      "Epoch 1/100\n",
      "50000/50000 [==============================] - 5s 98us/step - loss: 1.7197 - accuracy: 0.3910 - val_loss: 1.5509 - val_accuracy: 0.4541\n",
      "Epoch 2/100\n",
      "50000/50000 [==============================] - 5s 97us/step - loss: 1.4904 - accuracy: 0.4746 - val_loss: 1.4685 - val_accuracy: 0.4834\n",
      "Epoch 3/100\n",
      "50000/50000 [==============================] - 5s 96us/step - loss: 1.3723 - accuracy: 0.5198 - val_loss: 1.4336 - val_accuracy: 0.4994\n",
      "Epoch 4/100\n",
      "50000/50000 [==============================] - 5s 95us/step - loss: 1.2769 - accuracy: 0.5549 - val_loss: 1.3763 - val_accuracy: 0.5124\n",
      "Epoch 5/100\n",
      "50000/50000 [==============================] - 5s 96us/step - loss: 1.1916 - accuracy: 0.5814 - val_loss: 1.3795 - val_accuracy: 0.5231\n",
      "Epoch 6/100\n",
      "50000/50000 [==============================] - 5s 98us/step - loss: 1.1164 - accuracy: 0.6068 - val_loss: 1.3852 - val_accuracy: 0.5271\n",
      "Epoch 7/100\n",
      "50000/50000 [==============================] - 5s 95us/step - loss: 1.0404 - accuracy: 0.6345 - val_loss: 1.3912 - val_accuracy: 0.5299\n",
      "Epoch 8/100\n",
      "50000/50000 [==============================] - 5s 93us/step - loss: 0.9678 - accuracy: 0.6600 - val_loss: 1.3851 - val_accuracy: 0.5403\n",
      "Epoch 9/100\n",
      "50000/50000 [==============================] - 5s 94us/step - loss: 0.8935 - accuracy: 0.6869 - val_loss: 1.4330 - val_accuracy: 0.5357\n",
      "Epoch 10/100\n",
      "50000/50000 [==============================] - 5s 95us/step - loss: 0.8302 - accuracy: 0.7081 - val_loss: 1.4884 - val_accuracy: 0.5342\n",
      "Epoch 11/100\n",
      "50000/50000 [==============================] - 5s 97us/step - loss: 0.7699 - accuracy: 0.7278 - val_loss: 1.5333 - val_accuracy: 0.5263\n",
      "Epoch 12/100\n",
      "50000/50000 [==============================] - 5s 96us/step - loss: 0.7092 - accuracy: 0.7484 - val_loss: 1.5319 - val_accuracy: 0.5380\n",
      "Epoch 13/100\n",
      "50000/50000 [==============================] - 5s 98us/step - loss: 0.6350 - accuracy: 0.7752 - val_loss: 1.6094 - val_accuracy: 0.5364\n",
      "Epoch 14/100\n",
      "50000/50000 [==============================] - 5s 98us/step - loss: 0.5875 - accuracy: 0.7930 - val_loss: 1.6678 - val_accuracy: 0.5285\n",
      "Epoch 15/100\n",
      "50000/50000 [==============================] - 5s 99us/step - loss: 0.5383 - accuracy: 0.8090 - val_loss: 1.7311 - val_accuracy: 0.5338\n",
      "Epoch 16/100\n",
      "50000/50000 [==============================] - 5s 97us/step - loss: 0.4840 - accuracy: 0.8302 - val_loss: 1.9183 - val_accuracy: 0.5293\n",
      "Epoch 17/100\n",
      "50000/50000 [==============================] - 5s 97us/step - loss: 0.4519 - accuracy: 0.8412 - val_loss: 1.9513 - val_accuracy: 0.5372\n",
      "Epoch 18/100\n",
      "50000/50000 [==============================] - 5s 97us/step - loss: 0.4080 - accuracy: 0.8555 - val_loss: 2.0406 - val_accuracy: 0.5308\n",
      "Epoch 19/100\n",
      "50000/50000 [==============================] - 5s 97us/step - loss: 0.3774 - accuracy: 0.8677 - val_loss: 2.1172 - val_accuracy: 0.5320\n",
      "Epoch 20/100\n",
      "50000/50000 [==============================] - 5s 97us/step - loss: 0.3381 - accuracy: 0.8804 - val_loss: 2.2860 - val_accuracy: 0.5406\n",
      "Epoch 21/100\n",
      "50000/50000 [==============================] - 5s 97us/step - loss: 0.3267 - accuracy: 0.8847 - val_loss: 2.3937 - val_accuracy: 0.5321\n",
      "Epoch 22/100\n",
      "50000/50000 [==============================] - 5s 97us/step - loss: 0.3007 - accuracy: 0.8954 - val_loss: 2.3905 - val_accuracy: 0.5359\n",
      "Epoch 23/100\n",
      "50000/50000 [==============================] - 5s 97us/step - loss: 0.2804 - accuracy: 0.9021 - val_loss: 2.5280 - val_accuracy: 0.5303\n",
      "Epoch 24/100\n",
      "50000/50000 [==============================] - 5s 97us/step - loss: 0.2763 - accuracy: 0.9032 - val_loss: 2.5550 - val_accuracy: 0.5240\n",
      "Epoch 25/100\n",
      "50000/50000 [==============================] - 5s 97us/step - loss: 0.2431 - accuracy: 0.9158 - val_loss: 2.7258 - val_accuracy: 0.5179\n",
      "Epoch 26/100\n",
      "50000/50000 [==============================] - 5s 97us/step - loss: 0.2141 - accuracy: 0.9263 - val_loss: 2.8650 - val_accuracy: 0.5289\n",
      "Epoch 27/100\n",
      "50000/50000 [==============================] - 5s 97us/step - loss: 0.2246 - accuracy: 0.9215 - val_loss: 2.8052 - val_accuracy: 0.5330\n",
      "Epoch 28/100\n",
      "50000/50000 [==============================] - 5s 97us/step - loss: 0.1968 - accuracy: 0.9315 - val_loss: 2.9787 - val_accuracy: 0.5331\n",
      "Epoch 29/100\n",
      "50000/50000 [==============================] - 5s 98us/step - loss: 0.1968 - accuracy: 0.9330 - val_loss: 3.0165 - val_accuracy: 0.5325\n",
      "Epoch 30/100\n",
      "50000/50000 [==============================] - 5s 97us/step - loss: 0.2052 - accuracy: 0.9292 - val_loss: 2.9794 - val_accuracy: 0.5292\n",
      "Epoch 31/100\n",
      "50000/50000 [==============================] - 5s 99us/step - loss: 0.1812 - accuracy: 0.9382 - val_loss: 3.1748 - val_accuracy: 0.5247\n",
      "Epoch 32/100\n",
      "50000/50000 [==============================] - 5s 98us/step - loss: 0.1931 - accuracy: 0.9345 - val_loss: 3.0254 - val_accuracy: 0.5312\n",
      "Epoch 33/100\n",
      "50000/50000 [==============================] - 5s 98us/step - loss: 0.1684 - accuracy: 0.9423 - val_loss: 3.2286 - val_accuracy: 0.5313\n",
      "Epoch 34/100\n",
      "50000/50000 [==============================] - 5s 98us/step - loss: 0.1662 - accuracy: 0.9444 - val_loss: 3.1742 - val_accuracy: 0.5377\n",
      "Epoch 35/100\n",
      "50000/50000 [==============================] - 5s 98us/step - loss: 0.1478 - accuracy: 0.9497 - val_loss: 3.3400 - val_accuracy: 0.5290\n",
      "Epoch 36/100\n",
      "50000/50000 [==============================] - 5s 98us/step - loss: 0.1512 - accuracy: 0.9490 - val_loss: 3.4207 - val_accuracy: 0.5274\n",
      "Epoch 37/100\n",
      "50000/50000 [==============================] - 5s 99us/step - loss: 0.1594 - accuracy: 0.9448 - val_loss: 3.3148 - val_accuracy: 0.5297\n",
      "Epoch 38/100\n",
      "50000/50000 [==============================] - 5s 97us/step - loss: 0.1483 - accuracy: 0.9494 - val_loss: 3.4524 - val_accuracy: 0.5352\n",
      "Epoch 39/100\n",
      "50000/50000 [==============================] - 5s 98us/step - loss: 0.1337 - accuracy: 0.9543 - val_loss: 3.5770 - val_accuracy: 0.5348\n",
      "Epoch 40/100\n",
      "50000/50000 [==============================] - 5s 97us/step - loss: 0.1418 - accuracy: 0.9522 - val_loss: 3.6030 - val_accuracy: 0.5320\n",
      "Epoch 41/100\n",
      "50000/50000 [==============================] - 5s 98us/step - loss: 0.1405 - accuracy: 0.9520 - val_loss: 3.5055 - val_accuracy: 0.5277\n",
      "Epoch 42/100\n",
      "50000/50000 [==============================] - 5s 97us/step - loss: 0.1471 - accuracy: 0.9502 - val_loss: 3.5650 - val_accuracy: 0.5322\n",
      "Epoch 43/100\n",
      "50000/50000 [==============================] - 5s 98us/step - loss: 0.1409 - accuracy: 0.9530 - val_loss: 3.5874 - val_accuracy: 0.5315\n",
      "Epoch 44/100\n",
      "50000/50000 [==============================] - 5s 97us/step - loss: 0.1084 - accuracy: 0.9639 - val_loss: 3.6937 - val_accuracy: 0.5338\n",
      "Epoch 45/100\n",
      "50000/50000 [==============================] - 5s 97us/step - loss: 0.1120 - accuracy: 0.9623 - val_loss: 3.9237 - val_accuracy: 0.5308\n",
      "Epoch 46/100\n",
      "50000/50000 [==============================] - 5s 97us/step - loss: 0.1304 - accuracy: 0.9569 - val_loss: 3.7463 - val_accuracy: 0.5329\n",
      "Epoch 47/100\n",
      "50000/50000 [==============================] - 5s 98us/step - loss: 0.1302 - accuracy: 0.9552 - val_loss: 3.6779 - val_accuracy: 0.5223\n",
      "Epoch 48/100\n",
      "50000/50000 [==============================] - 5s 97us/step - loss: 0.1136 - accuracy: 0.9609 - val_loss: 3.7359 - val_accuracy: 0.5292\n",
      "Epoch 49/100\n",
      "50000/50000 [==============================] - 5s 97us/step - loss: 0.1350 - accuracy: 0.9542 - val_loss: 3.7435 - val_accuracy: 0.5350\n",
      "Epoch 50/100\n",
      "50000/50000 [==============================] - 5s 97us/step - loss: 0.1035 - accuracy: 0.9655 - val_loss: 3.8228 - val_accuracy: 0.5418\n",
      "Epoch 51/100\n",
      "50000/50000 [==============================] - 5s 97us/step - loss: 0.1179 - accuracy: 0.9614 - val_loss: 3.8560 - val_accuracy: 0.5307\n",
      "Epoch 52/100\n",
      "50000/50000 [==============================] - 5s 98us/step - loss: 0.1011 - accuracy: 0.9654 - val_loss: 3.9159 - val_accuracy: 0.5305\n",
      "Epoch 53/100\n",
      "50000/50000 [==============================] - 5s 100us/step - loss: 0.1156 - accuracy: 0.9613 - val_loss: 3.7868 - val_accuracy: 0.5290\n",
      "Epoch 54/100\n",
      "50000/50000 [==============================] - 5s 102us/step - loss: 0.0864 - accuracy: 0.9707 - val_loss: 3.9814 - val_accuracy: 0.5274\n",
      "Epoch 55/100\n",
      "50000/50000 [==============================] - 5s 98us/step - loss: 0.1186 - accuracy: 0.9601 - val_loss: 3.8594 - val_accuracy: 0.5291\n"
     ]
    },
    {
     "name": "stdout",
     "output_type": "stream",
     "text": [
      "Epoch 56/100\n",
      "50000/50000 [==============================] - 5s 97us/step - loss: 0.1079 - accuracy: 0.9652 - val_loss: 3.9188 - val_accuracy: 0.5311\n",
      "Epoch 57/100\n",
      "50000/50000 [==============================] - 5s 97us/step - loss: 0.0831 - accuracy: 0.9720 - val_loss: 4.0781 - val_accuracy: 0.5318\n",
      "Epoch 58/100\n",
      "50000/50000 [==============================] - 5s 97us/step - loss: 0.0965 - accuracy: 0.9682 - val_loss: 4.0460 - val_accuracy: 0.5379\n",
      "Epoch 59/100\n",
      "50000/50000 [==============================] - 5s 97us/step - loss: 0.1186 - accuracy: 0.9616 - val_loss: 3.8548 - val_accuracy: 0.5297\n",
      "Epoch 60/100\n",
      "50000/50000 [==============================] - 5s 97us/step - loss: 0.1038 - accuracy: 0.9655 - val_loss: 3.9235 - val_accuracy: 0.5312\n",
      "Epoch 61/100\n",
      "50000/50000 [==============================] - 5s 97us/step - loss: 0.0893 - accuracy: 0.9704 - val_loss: 4.2035 - val_accuracy: 0.5335\n",
      "Epoch 62/100\n",
      "50000/50000 [==============================] - 5s 97us/step - loss: 0.0801 - accuracy: 0.9731 - val_loss: 4.1656 - val_accuracy: 0.5292\n",
      "Epoch 63/100\n",
      "50000/50000 [==============================] - 5s 97us/step - loss: 0.0864 - accuracy: 0.9719 - val_loss: 4.2957 - val_accuracy: 0.5203\n",
      "Epoch 64/100\n",
      "50000/50000 [==============================] - 5s 97us/step - loss: 0.1094 - accuracy: 0.9649 - val_loss: 4.1767 - val_accuracy: 0.5288\n",
      "Epoch 65/100\n",
      "50000/50000 [==============================] - 5s 97us/step - loss: 0.1117 - accuracy: 0.9638 - val_loss: 4.1447 - val_accuracy: 0.5238\n",
      "Epoch 66/100\n",
      "50000/50000 [==============================] - 5s 99us/step - loss: 0.0741 - accuracy: 0.9752 - val_loss: 4.3438 - val_accuracy: 0.5332\n",
      "Epoch 67/100\n",
      "50000/50000 [==============================] - 5s 98us/step - loss: 0.0798 - accuracy: 0.9741 - val_loss: 4.1329 - val_accuracy: 0.5272\n",
      "Epoch 68/100\n",
      "50000/50000 [==============================] - 5s 98us/step - loss: 0.0803 - accuracy: 0.9732 - val_loss: 4.3717 - val_accuracy: 0.5326\n",
      "Epoch 69/100\n",
      "50000/50000 [==============================] - 5s 98us/step - loss: 0.0821 - accuracy: 0.9732 - val_loss: 4.3428 - val_accuracy: 0.5356\n",
      "Epoch 70/100\n",
      "50000/50000 [==============================] - 5s 97us/step - loss: 0.1137 - accuracy: 0.9619 - val_loss: 4.1558 - val_accuracy: 0.5344\n",
      "Epoch 71/100\n",
      "50000/50000 [==============================] - 5s 97us/step - loss: 0.0978 - accuracy: 0.9677 - val_loss: 4.2604 - val_accuracy: 0.5359\n",
      "Epoch 72/100\n",
      "50000/50000 [==============================] - 5s 98us/step - loss: 0.0806 - accuracy: 0.9744 - val_loss: 4.3951 - val_accuracy: 0.5315\n",
      "Epoch 73/100\n",
      "50000/50000 [==============================] - 5s 97us/step - loss: 0.0682 - accuracy: 0.9776 - val_loss: 4.2847 - val_accuracy: 0.5277\n",
      "Epoch 74/100\n",
      "50000/50000 [==============================] - 5s 97us/step - loss: 0.0790 - accuracy: 0.9744 - val_loss: 4.3202 - val_accuracy: 0.5341\n",
      "Epoch 75/100\n",
      "50000/50000 [==============================] - 5s 98us/step - loss: 0.0762 - accuracy: 0.9755 - val_loss: 4.2918 - val_accuracy: 0.5356\n",
      "Epoch 76/100\n",
      "50000/50000 [==============================] - 5s 98us/step - loss: 0.0894 - accuracy: 0.9721 - val_loss: 4.1368 - val_accuracy: 0.5352\n",
      "Epoch 77/100\n",
      "50000/50000 [==============================] - 5s 98us/step - loss: 0.0631 - accuracy: 0.9791 - val_loss: 4.4712 - val_accuracy: 0.5347\n",
      "Epoch 78/100\n",
      "50000/50000 [==============================] - 5s 98us/step - loss: 0.0787 - accuracy: 0.9747 - val_loss: 4.4115 - val_accuracy: 0.5248\n",
      "Epoch 79/100\n",
      "50000/50000 [==============================] - 5s 97us/step - loss: 0.0807 - accuracy: 0.9737 - val_loss: 4.2775 - val_accuracy: 0.5269\n",
      "Epoch 80/100\n",
      "50000/50000 [==============================] - 5s 97us/step - loss: 0.0652 - accuracy: 0.9791 - val_loss: 4.5090 - val_accuracy: 0.5363\n",
      "Epoch 81/100\n",
      "50000/50000 [==============================] - 5s 97us/step - loss: 0.0827 - accuracy: 0.9727 - val_loss: 4.3969 - val_accuracy: 0.5344\n",
      "Epoch 82/100\n",
      "50000/50000 [==============================] - 5s 97us/step - loss: 0.0741 - accuracy: 0.9760 - val_loss: 4.4152 - val_accuracy: 0.5347\n",
      "Epoch 83/100\n",
      "50000/50000 [==============================] - 5s 97us/step - loss: 0.0645 - accuracy: 0.9791 - val_loss: 4.6080 - val_accuracy: 0.5390\n",
      "Epoch 84/100\n",
      "50000/50000 [==============================] - 5s 97us/step - loss: 0.0798 - accuracy: 0.9742 - val_loss: 4.3454 - val_accuracy: 0.5345\n",
      "Epoch 85/100\n",
      "50000/50000 [==============================] - 5s 97us/step - loss: 0.0723 - accuracy: 0.9767 - val_loss: 4.3906 - val_accuracy: 0.5298\n",
      "Epoch 86/100\n",
      "50000/50000 [==============================] - 5s 97us/step - loss: 0.0773 - accuracy: 0.9750 - val_loss: 4.4645 - val_accuracy: 0.5377\n",
      "Epoch 87/100\n",
      "50000/50000 [==============================] - 5s 97us/step - loss: 0.0540 - accuracy: 0.9828 - val_loss: 4.5273 - val_accuracy: 0.5357\n",
      "Epoch 88/100\n",
      "50000/50000 [==============================] - 5s 97us/step - loss: 0.0691 - accuracy: 0.9772 - val_loss: 4.5583 - val_accuracy: 0.5357\n",
      "Epoch 89/100\n",
      "50000/50000 [==============================] - 5s 97us/step - loss: 0.0842 - accuracy: 0.9740 - val_loss: 4.4531 - val_accuracy: 0.5267\n",
      "Epoch 90/100\n",
      "50000/50000 [==============================] - 5s 97us/step - loss: 0.0908 - accuracy: 0.9711 - val_loss: 4.4540 - val_accuracy: 0.5321\n",
      "Epoch 91/100\n",
      "50000/50000 [==============================] - 5s 97us/step - loss: 0.0428 - accuracy: 0.9862 - val_loss: 4.4962 - val_accuracy: 0.5356\n",
      "Epoch 92/100\n",
      "50000/50000 [==============================] - 5s 97us/step - loss: 0.0594 - accuracy: 0.9809 - val_loss: 4.4839 - val_accuracy: 0.5307\n",
      "Epoch 93/100\n",
      "50000/50000 [==============================] - 5s 97us/step - loss: 0.0749 - accuracy: 0.9756 - val_loss: 4.3408 - val_accuracy: 0.5422\n",
      "Epoch 94/100\n",
      "50000/50000 [==============================] - 5s 97us/step - loss: 0.0660 - accuracy: 0.9786 - val_loss: 4.4294 - val_accuracy: 0.5321\n",
      "Epoch 95/100\n",
      "50000/50000 [==============================] - 5s 97us/step - loss: 0.0705 - accuracy: 0.9778 - val_loss: 4.3773 - val_accuracy: 0.5369\n",
      "Epoch 96/100\n",
      "50000/50000 [==============================] - 5s 97us/step - loss: 0.0714 - accuracy: 0.9769 - val_loss: 4.5948 - val_accuracy: 0.5304\n",
      "Epoch 97/100\n",
      "50000/50000 [==============================] - 5s 97us/step - loss: 0.0437 - accuracy: 0.9849 - val_loss: 4.8318 - val_accuracy: 0.5316\n",
      "Epoch 98/100\n",
      "50000/50000 [==============================] - 5s 97us/step - loss: 0.0686 - accuracy: 0.9778 - val_loss: 4.6956 - val_accuracy: 0.5280\n",
      "Epoch 99/100\n",
      "50000/50000 [==============================] - 5s 97us/step - loss: 0.0709 - accuracy: 0.9773 - val_loss: 4.5499 - val_accuracy: 0.5376\n",
      "Epoch 100/100\n",
      "50000/50000 [==============================] - 5s 97us/step - loss: 0.0740 - accuracy: 0.9763 - val_loss: 4.6173 - val_accuracy: 0.5266\n"
     ]
    },
    {
     "data": {
      "text/plain": [
       "<keras.callbacks.callbacks.History at 0x256d19cf448>"
      ]
     },
     "execution_count": 10,
     "metadata": {},
     "output_type": "execute_result"
    }
   ],
   "source": [
    "model.fit(x_train, y_train, \n",
    "          epochs=EPOCHS, \n",
    "          batch_size=BATCH_SIZE, \n",
    "          validation_data=(x_test, y_test), \n",
    "          shuffle=True)"
   ]
  },
  {
   "cell_type": "code",
   "execution_count": 12,
   "metadata": {},
   "outputs": [
    {
     "data": {
      "image/png": "[encoded data removed]",
      "text/plain": [
       "<Figure size 432x288 with 1 Axes>"
      ]
     },
     "metadata": {
      "needs_background": "light"
     },
     "output_type": "display_data"
    },
    {
     "data": {
      "image/png": "[encoded data removed]",
      "text/plain": [
       "<Figure size 432x288 with 1 Axes>"
      ]
     },
     "metadata": {
      "needs_background": "light"
     },
     "output_type": "display_data"
    }
   ],
   "source": [
    "import matplotlib.pyplot as plt\n",
    "\n",
    "\n",
    "train_loss = model.history.history[\"loss\"]\n",
    "valid_loss = model.history.history[\"val_loss\"]\n",
    "\n",
    "train_acc = model.history.history[\"accuracy\"]\n",
    "valid_acc = model.history.history[\"val_accuracy\"]\n",
    "\n",
    "plt.plot(range(len(train_loss)), train_loss, label=\"train loss\")\n",
    "plt.plot(range(len(valid_loss)), valid_loss, label=\"valid loss\")\n",
    "plt.legend()\n",
    "plt.title(\"Loss\")\n",
    "plt.show()\n",
    "\n",
    "plt.plot(range(len(train_acc)), train_acc, label=\"train accuracy\")\n",
    "plt.plot(range(len(valid_acc)), valid_acc, label=\"valid accuracy\")\n",
    "plt.legend()\n",
    "plt.title(\"Accuracy\")\n",
    "plt.show()"
   ]
  },
  {
   "cell_type": "code",
   "execution_count": null,
   "metadata": {},
   "outputs": [],
   "source": []
  }
 ],
 "metadata": {
  "kernelspec": {
   "display_name": "Python 3",
   "language": "python",
   "name": "python3"
  },
  "language_info": {
   "codemirror_mode": {
    "name": "ipython",
    "version": 3
   },
   "file_extension": ".py",
   "mimetype": "text/x-python",
   "name": "python",
   "nbconvert_exporter": "python",
   "pygments_lexer": "ipython3",
   "version": "3.7.4"
  }
 },
 "nbformat": 4,
 "nbformat_minor": 2
}
