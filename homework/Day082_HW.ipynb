{
 "cells": [
  {
   "cell_type": "markdown",
   "metadata": {},
   "source": [
    "## Work\n",
    "1. 請比較使用不同層數以及不同 Dropout rate 對訓練的效果\n",
    "2. 將 optimizer 改成使用 Adam 並加上適當的 dropout rate 檢視結果"
   ]
  },
  {
   "cell_type": "code",
   "execution_count": 1,
   "metadata": {},
   "outputs": [
    {
     "name": "stderr",
     "output_type": "stream",
     "text": [
      "Using TensorFlow backend.\n"
     ]
    }
   ],
   "source": [
    "import os\n",
    "import keras\n",
    "import itertools\n",
    "# Disable GPU\n",
    "os.environ[\"CUDA_VISIBLE_DEVICES\"] = \"\""
   ]
  },
  {
   "cell_type": "code",
   "execution_count": 2,
   "metadata": {},
   "outputs": [],
   "source": [
    "train, test = keras.datasets.cifar10.load_data()"
   ]
  },
  {
   "cell_type": "code",
   "execution_count": 3,
   "metadata": {},
   "outputs": [],
   "source": [
    "## 資料前處理\n",
    "def preproc_x(x, flatten=True):\n",
    "    x = x / 255.\n",
    "    if flatten:\n",
    "        x = x.reshape((len(x), -1))\n",
    "    return x\n",
    "\n",
    "def preproc_y(y, num_classes=10):\n",
    "    if y.shape[-1] == 1:\n",
    "        y = keras.utils.to_categorical(y, num_classes)\n",
    "    return y    "
   ]
  },
  {
   "cell_type": "code",
   "execution_count": 4,
   "metadata": {},
   "outputs": [],
   "source": [
    "x_train, y_train = train\n",
    "x_test, y_test = test\n",
    "\n",
    "# Preproc the inputs\n",
    "x_train = preproc_x(x_train)\n",
    "x_test = preproc_x(x_test)\n",
    "\n",
    "# Preprc the outputs\n",
    "y_train = preproc_y(y_train)\n",
    "y_test = preproc_y(y_test)"
   ]
  },
  {
   "cell_type": "code",
   "execution_count": 5,
   "metadata": {},
   "outputs": [],
   "source": [
    "\n",
    "from keras.layers import Dropout\n",
    "\n",
    "\"\"\"\n",
    "建立神經網路，並加入 dropout layer\n",
    "\"\"\"\n",
    "def build_mlp(input_shape, output_units=10, num_neurons=[512, 256, 128], drp_ratio=0.1):\n",
    "    input_layer = keras.layers.Input(input_shape)\n",
    "    \n",
    "    for i, n_units in enumerate(num_neurons):\n",
    "        if i == 0:\n",
    "            x = keras.layers.Dense(units=n_units, \n",
    "                                   activation=\"relu\", \n",
    "                                   name=\"hidden_layer\"+str(i+1))(input_layer)\n",
    "            x = Dropout(drp_ratio)(x)\n",
    "        else:\n",
    "            x = keras.layers.Dense(units=n_units, \n",
    "                                   activation=\"relu\", \n",
    "                                   name=\"hidden_layer\"+str(i+1))(x)\n",
    "            x = Dropout(drp_ratio)(x)\n",
    "    \n",
    "    out = keras.layers.Dense(units=output_units, activation=\"softmax\", name=\"output\")(x)\n",
    "    \n",
    "    model = keras.models.Model(inputs=[input_layer], outputs=[out])\n",
    "    return model"
   ]
  },
  {
   "cell_type": "code",
   "execution_count": 6,
   "metadata": {},
   "outputs": [],
   "source": [
    "## 超參數設定\n",
    "\n",
    "LEARNING_RATE = 1e-3\n",
    "EPOCHS = 50\n",
    "BATCH_SIZE = 256\n",
    "MOMENTUM = 0.95\n",
    "Dropout_EXP = 0.25"
   ]
  },
  {
   "cell_type": "code",
   "execution_count": 8,
   "metadata": {
    "scrolled": true
   },
   "outputs": [
    {
     "name": "stdout",
     "output_type": "stream",
     "text": [
      "Model: \"model_2\"\n",
      "_________________________________________________________________\n",
      "Layer (type)                 Output Shape              Param #   \n",
      "=================================================================\n",
      "input_2 (InputLayer)         (None, 3072)              0         \n",
      "_________________________________________________________________\n",
      "hidden_layer1 (Dense)        (None, 512)               1573376   \n",
      "_________________________________________________________________\n",
      "dropout_4 (Dropout)          (None, 512)               0         \n",
      "_________________________________________________________________\n",
      "hidden_layer2 (Dense)        (None, 256)               131328    \n",
      "_________________________________________________________________\n",
      "dropout_5 (Dropout)          (None, 256)               0         \n",
      "_________________________________________________________________\n",
      "hidden_layer3 (Dense)        (None, 128)               32896     \n",
      "_________________________________________________________________\n",
      "dropout_6 (Dropout)          (None, 128)               0         \n",
      "_________________________________________________________________\n",
      "output (Dense)               (None, 10)                1290      \n",
      "=================================================================\n",
      "Total params: 1,738,890\n",
      "Trainable params: 1,738,890\n",
      "Non-trainable params: 0\n",
      "_________________________________________________________________\n",
      "Train on 50000 samples, validate on 10000 samples\n",
      "Epoch 1/50\n",
      "50000/50000 [==============================] - 2s 44us/step - loss: 2.1814 - accuracy: 0.1908 - val_loss: 1.9792 - val_accuracy: 0.3031\n",
      "Epoch 2/50\n",
      "50000/50000 [==============================] - 2s 41us/step - loss: 1.9910 - accuracy: 0.2729 - val_loss: 1.8677 - val_accuracy: 0.3412\n",
      "Epoch 3/50\n",
      "50000/50000 [==============================] - 2s 41us/step - loss: 1.9105 - accuracy: 0.3092 - val_loss: 1.8048 - val_accuracy: 0.3650\n",
      "Epoch 4/50\n",
      "50000/50000 [==============================] - 2s 41us/step - loss: 1.8584 - accuracy: 0.3301 - val_loss: 1.7543 - val_accuracy: 0.3787\n",
      "Epoch 5/50\n",
      "50000/50000 [==============================] - 2s 41us/step - loss: 1.8174 - accuracy: 0.3502 - val_loss: 1.7173 - val_accuracy: 0.3925\n",
      "Epoch 6/50\n",
      "50000/50000 [==============================] - 2s 41us/step - loss: 1.7815 - accuracy: 0.3633 - val_loss: 1.6779 - val_accuracy: 0.4083\n",
      "Epoch 7/50\n",
      "50000/50000 [==============================] - 2s 41us/step - loss: 1.7530 - accuracy: 0.3710 - val_loss: 1.6485 - val_accuracy: 0.4189\n",
      "Epoch 8/50\n",
      "50000/50000 [==============================] - 2s 41us/step - loss: 1.7259 - accuracy: 0.3826 - val_loss: 1.6228 - val_accuracy: 0.4308\n",
      "Epoch 9/50\n",
      "50000/50000 [==============================] - 2s 41us/step - loss: 1.7020 - accuracy: 0.3927 - val_loss: 1.6041 - val_accuracy: 0.4359\n",
      "Epoch 10/50\n",
      "50000/50000 [==============================] - 2s 41us/step - loss: 1.6849 - accuracy: 0.3995 - val_loss: 1.5805 - val_accuracy: 0.4465\n",
      "Epoch 11/50\n",
      "50000/50000 [==============================] - 2s 41us/step - loss: 1.6627 - accuracy: 0.4095 - val_loss: 1.5678 - val_accuracy: 0.4432\n",
      "Epoch 12/50\n",
      "50000/50000 [==============================] - 2s 41us/step - loss: 1.6481 - accuracy: 0.4136 - val_loss: 1.5497 - val_accuracy: 0.4544\n",
      "Epoch 13/50\n",
      "50000/50000 [==============================] - 2s 41us/step - loss: 1.6290 - accuracy: 0.4178 - val_loss: 1.5364 - val_accuracy: 0.4544\n",
      "Epoch 14/50\n",
      "50000/50000 [==============================] - 2s 41us/step - loss: 1.6120 - accuracy: 0.4273 - val_loss: 1.5195 - val_accuracy: 0.4623\n",
      "Epoch 15/50\n",
      "50000/50000 [==============================] - 2s 41us/step - loss: 1.5988 - accuracy: 0.4306 - val_loss: 1.5056 - val_accuracy: 0.4647\n",
      "Epoch 16/50\n",
      "50000/50000 [==============================] - 2s 41us/step - loss: 1.5841 - accuracy: 0.4353 - val_loss: 1.4944 - val_accuracy: 0.4701\n",
      "Epoch 17/50\n",
      "50000/50000 [==============================] - 2s 41us/step - loss: 1.5687 - accuracy: 0.4415 - val_loss: 1.4853 - val_accuracy: 0.4712\n",
      "Epoch 18/50\n",
      "50000/50000 [==============================] - 2s 41us/step - loss: 1.5540 - accuracy: 0.4474 - val_loss: 1.4740 - val_accuracy: 0.4752\n",
      "Epoch 19/50\n",
      "50000/50000 [==============================] - 2s 41us/step - loss: 1.5410 - accuracy: 0.4502 - val_loss: 1.4623 - val_accuracy: 0.4815\n",
      "Epoch 20/50\n",
      "50000/50000 [==============================] - 2s 41us/step - loss: 1.5291 - accuracy: 0.4568 - val_loss: 1.4576 - val_accuracy: 0.4800\n",
      "Epoch 21/50\n",
      "50000/50000 [==============================] - 2s 41us/step - loss: 1.5214 - accuracy: 0.4592 - val_loss: 1.4394 - val_accuracy: 0.4872\n",
      "Epoch 22/50\n",
      "50000/50000 [==============================] - 2s 41us/step - loss: 1.5124 - accuracy: 0.4614 - val_loss: 1.4443 - val_accuracy: 0.4859\n",
      "Epoch 23/50\n",
      "50000/50000 [==============================] - 2s 41us/step - loss: 1.4994 - accuracy: 0.4659 - val_loss: 1.4377 - val_accuracy: 0.4942\n",
      "Epoch 24/50\n",
      "50000/50000 [==============================] - 2s 41us/step - loss: 1.4912 - accuracy: 0.4706 - val_loss: 1.4280 - val_accuracy: 0.4941\n",
      "Epoch 25/50\n",
      "50000/50000 [==============================] - 2s 41us/step - loss: 1.4718 - accuracy: 0.4754 - val_loss: 1.4226 - val_accuracy: 0.4952\n",
      "Epoch 26/50\n",
      "50000/50000 [==============================] - 2s 41us/step - loss: 1.4685 - accuracy: 0.4768 - val_loss: 1.4143 - val_accuracy: 0.4927\n",
      "Epoch 27/50\n",
      "50000/50000 [==============================] - 2s 41us/step - loss: 1.4558 - accuracy: 0.4841 - val_loss: 1.4021 - val_accuracy: 0.5006\n",
      "Epoch 28/50\n",
      "50000/50000 [==============================] - 2s 41us/step - loss: 1.4508 - accuracy: 0.4818 - val_loss: 1.3969 - val_accuracy: 0.5015\n",
      "Epoch 29/50\n",
      "50000/50000 [==============================] - 2s 41us/step - loss: 1.4431 - accuracy: 0.4866 - val_loss: 1.3894 - val_accuracy: 0.5046\n",
      "Epoch 30/50\n",
      "50000/50000 [==============================] - 2s 41us/step - loss: 1.4318 - accuracy: 0.4922 - val_loss: 1.3929 - val_accuracy: 0.5021\n",
      "Epoch 31/50\n",
      "50000/50000 [==============================] - 2s 41us/step - loss: 1.4203 - accuracy: 0.4931 - val_loss: 1.3789 - val_accuracy: 0.5105\n",
      "Epoch 32/50\n",
      "50000/50000 [==============================] - 2s 41us/step - loss: 1.4138 - accuracy: 0.4977 - val_loss: 1.3841 - val_accuracy: 0.5071\n",
      "Epoch 33/50\n",
      "50000/50000 [==============================] - 2s 41us/step - loss: 1.4085 - accuracy: 0.5008 - val_loss: 1.3712 - val_accuracy: 0.5101\n",
      "Epoch 34/50\n",
      "50000/50000 [==============================] - 2s 41us/step - loss: 1.3992 - accuracy: 0.5011 - val_loss: 1.3658 - val_accuracy: 0.5124\n",
      "Epoch 35/50\n",
      "50000/50000 [==============================] - 2s 41us/step - loss: 1.3924 - accuracy: 0.5040 - val_loss: 1.3598 - val_accuracy: 0.5145\n",
      "Epoch 36/50\n",
      "50000/50000 [==============================] - 2s 41us/step - loss: 1.3822 - accuracy: 0.5066 - val_loss: 1.3558 - val_accuracy: 0.5144\n",
      "Epoch 37/50\n",
      "50000/50000 [==============================] - 2s 41us/step - loss: 1.3746 - accuracy: 0.5117 - val_loss: 1.3564 - val_accuracy: 0.5182\n",
      "Epoch 38/50\n",
      "50000/50000 [==============================] - 2s 41us/step - loss: 1.3678 - accuracy: 0.5110 - val_loss: 1.3440 - val_accuracy: 0.5211\n",
      "Epoch 39/50\n",
      "50000/50000 [==============================] - 2s 41us/step - loss: 1.3623 - accuracy: 0.5126 - val_loss: 1.3658 - val_accuracy: 0.5129\n",
      "Epoch 40/50\n",
      "50000/50000 [==============================] - 2s 41us/step - loss: 1.3545 - accuracy: 0.5167 - val_loss: 1.3409 - val_accuracy: 0.5201\n",
      "Epoch 41/50\n",
      "50000/50000 [==============================] - 2s 41us/step - loss: 1.3488 - accuracy: 0.5218 - val_loss: 1.3397 - val_accuracy: 0.5211\n",
      "Epoch 42/50\n",
      "50000/50000 [==============================] - 2s 41us/step - loss: 1.3446 - accuracy: 0.5204 - val_loss: 1.3410 - val_accuracy: 0.5178\n",
      "Epoch 43/50\n",
      "50000/50000 [==============================] - 2s 41us/step - loss: 1.3373 - accuracy: 0.5216 - val_loss: 1.3339 - val_accuracy: 0.5207\n",
      "Epoch 44/50\n",
      "50000/50000 [==============================] - 2s 41us/step - loss: 1.3257 - accuracy: 0.5275 - val_loss: 1.3306 - val_accuracy: 0.5253\n",
      "Epoch 45/50\n",
      "50000/50000 [==============================] - 2s 41us/step - loss: 1.3187 - accuracy: 0.5279 - val_loss: 1.3266 - val_accuracy: 0.5240\n",
      "Epoch 46/50\n"
     ]
    },
    {
     "name": "stdout",
     "output_type": "stream",
     "text": [
      "50000/50000 [==============================] - 2s 41us/step - loss: 1.3125 - accuracy: 0.5299 - val_loss: 1.3294 - val_accuracy: 0.5225\n",
      "Epoch 47/50\n",
      "50000/50000 [==============================] - 2s 41us/step - loss: 1.3104 - accuracy: 0.5338 - val_loss: 1.3264 - val_accuracy: 0.5268\n",
      "Epoch 48/50\n",
      "50000/50000 [==============================] - 2s 41us/step - loss: 1.2984 - accuracy: 0.5397 - val_loss: 1.3172 - val_accuracy: 0.5311\n",
      "Epoch 49/50\n",
      "50000/50000 [==============================] - 2s 41us/step - loss: 1.2971 - accuracy: 0.5397 - val_loss: 1.3178 - val_accuracy: 0.5301\n",
      "Epoch 50/50\n",
      "50000/50000 [==============================] - 2s 41us/step - loss: 1.2934 - accuracy: 0.5396 - val_loss: 1.3144 - val_accuracy: 0.5306\n"
     ]
    }
   ],
   "source": [
    "model = build_mlp(input_shape=x_train.shape[1:], drp_ratio=Dropout_EXP)\n",
    "model.summary()\n",
    "optimizer = keras.optimizers.SGD(lr=LEARNING_RATE, nesterov=True, momentum=MOMENTUM)\n",
    "model.compile(loss=\"categorical_crossentropy\", metrics=[\"accuracy\"], optimizer=optimizer)\n",
    "\n",
    "model.fit(x_train, y_train, \n",
    "          epochs=EPOCHS, \n",
    "          batch_size=BATCH_SIZE, \n",
    "          validation_data=(x_test, y_test), \n",
    "          shuffle=True)\n",
    "\n",
    "# Collect results\n",
    "train_loss = model.history.history[\"loss\"]\n",
    "valid_loss = model.history.history[\"val_loss\"]\n",
    "train_acc = model.history.history[\"accuracy\"]\n",
    "valid_acc = model.history.history[\"val_accuracy\"]"
   ]
  },
  {
   "cell_type": "code",
   "execution_count": 9,
   "metadata": {},
   "outputs": [
    {
     "data": {
      "image/png": "[encoded data removed]",
      "text/plain": [
       "<Figure size 432x288 with 1 Axes>"
      ]
     },
     "metadata": {
      "needs_background": "light"
     },
     "output_type": "display_data"
    },
    {
     "data": {
      "image/png": "[encoded data removed]",
      "text/plain": [
       "<Figure size 432x288 with 1 Axes>"
      ]
     },
     "metadata": {
      "needs_background": "light"
     },
     "output_type": "display_data"
    }
   ],
   "source": [
    "import matplotlib.pyplot as plt\n",
    "%matplotlib inline\n",
    "\n",
    "plt.plot(range(len(train_loss)), train_loss, label=\"train loss\")\n",
    "plt.plot(range(len(valid_loss)), valid_loss, label=\"valid loss\")\n",
    "plt.legend()\n",
    "plt.title(\"Loss\")\n",
    "plt.show()\n",
    "\n",
    "plt.plot(range(len(train_acc)), train_acc, label=\"train accuracy\")\n",
    "plt.plot(range(len(valid_acc)), valid_acc, label=\"valid accuracy\")\n",
    "plt.legend()\n",
    "plt.title(\"Accuracy\")\n",
    "plt.show()"
   ]
  },
  {
   "cell_type": "code",
   "execution_count": null,
   "metadata": {},
   "outputs": [],
   "source": []
  }
 ],
 "metadata": {
  "kernelspec": {
   "display_name": "Python 3",
   "language": "python",
   "name": "python3"
  },
  "language_info": {
   "codemirror_mode": {
    "name": "ipython",
    "version": 3
   },
   "file_extension": ".py",
   "mimetype": "text/x-python",
   "name": "python",
   "nbconvert_exporter": "python",
   "pygments_lexer": "ipython3",
   "version": "3.7.4"
  }
 },
 "nbformat": 4,
 "nbformat_minor": 2
}
