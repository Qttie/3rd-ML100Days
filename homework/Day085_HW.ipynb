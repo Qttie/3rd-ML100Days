{
 "cells": [
  {
   "cell_type": "markdown",
   "metadata": {},
   "source": [
    "## Work\n",
    "1. 試改變 monitor \"Validation Accuracy\" 並比較結果\n",
    "2. 調整 earlystop 的等待次數至 10, 25 並比較結果"
   ]
  },
  {
   "cell_type": "code",
   "execution_count": 1,
   "metadata": {},
   "outputs": [
    {
     "name": "stderr",
     "output_type": "stream",
     "text": [
      "Using TensorFlow backend.\n"
     ]
    }
   ],
   "source": [
    "import os\n",
    "import keras\n",
    "import matplotlib.pyplot as plt\n",
    "%matplotlib inline\n",
    "\n",
    "\n",
    "# Disable GPU\n",
    "os.environ[\"CUDA_VISIBLE_DEVICES\"] = \"gpu\""
   ]
  },
  {
   "cell_type": "code",
   "execution_count": 2,
   "metadata": {},
   "outputs": [],
   "source": [
    "train, test = keras.datasets.cifar10.load_data()"
   ]
  },
  {
   "cell_type": "code",
   "execution_count": 3,
   "metadata": {},
   "outputs": [],
   "source": [
    "## 資料前處理\n",
    "def preproc_x(x, flatten=True):\n",
    "    x = x / 255.\n",
    "    if flatten:\n",
    "        x = x.reshape((len(x), -1))\n",
    "    return x\n",
    "\n",
    "def preproc_y(y, num_classes=10):\n",
    "    if y.shape[-1] == 1:\n",
    "        y = keras.utils.to_categorical(y, num_classes)\n",
    "    return y    "
   ]
  },
  {
   "cell_type": "code",
   "execution_count": 4,
   "metadata": {},
   "outputs": [],
   "source": [
    "x_train, y_train = train\n",
    "x_test, y_test = test\n",
    "\n",
    "# Preproc the inputs\n",
    "x_train = preproc_x(x_train)\n",
    "x_test = preproc_x(x_test)\n",
    "\n",
    "# Preprc the outputs\n",
    "y_train = preproc_y(y_train)\n",
    "y_test = preproc_y(y_test)"
   ]
  },
  {
   "cell_type": "code",
   "execution_count": 5,
   "metadata": {},
   "outputs": [],
   "source": [
    "from keras.layers import BatchNormalization\n",
    "\n",
    "\"\"\"\n",
    "建立神經網路，並加入 BN layer\n",
    "\"\"\"\n",
    "def build_mlp(input_shape, output_units=10, num_neurons=[512, 256, 128]):\n",
    "    input_layer = keras.layers.Input(input_shape)\n",
    "    \n",
    "    for i, n_units in enumerate(num_neurons):\n",
    "        if i == 0:\n",
    "            x = keras.layers.Dense(units=n_units, \n",
    "                                   activation=\"relu\", \n",
    "                                   name=\"hidden_layer\"+str(i+1))(input_layer)\n",
    "            x = BatchNormalization()(x)\n",
    "        else:\n",
    "            x = keras.layers.Dense(units=n_units, \n",
    "                                   activation=\"relu\", \n",
    "                                   name=\"hidden_layer\"+str(i+1))(x)\n",
    "            x = BatchNormalization()(x)\n",
    "    \n",
    "    out = keras.layers.Dense(units=output_units, activation=\"softmax\", name=\"output\")(x)\n",
    "    \n",
    "    model = keras.models.Model(inputs=[input_layer], outputs=[out])\n",
    "    return model"
   ]
  },
  {
   "cell_type": "code",
   "execution_count": 6,
   "metadata": {},
   "outputs": [],
   "source": [
    "## 超參數設定\n",
    "LEARNING_RATE = 1e-3\n",
    "EPOCHS = 50\n",
    "BATCH_SIZE = 1024\n",
    "MOMENTUM = 0.95"
   ]
  },
  {
   "cell_type": "code",
   "execution_count": 7,
   "metadata": {},
   "outputs": [],
   "source": [
    "\"\"\"\n",
    "# 載入 Callbacks, 並將 monitor 設定為監控 validation loss\n",
    "\"\"\"\n",
    "from keras.callbacks import EarlyStopping\n",
    "\n",
    "earlystop = EarlyStopping(monitor=\"val_loss\", \n",
    "                          patience=10, \n",
    "                          verbose=1\n",
    "                          )"
   ]
  },
  {
   "cell_type": "code",
   "execution_count": 8,
   "metadata": {},
   "outputs": [
    {
     "name": "stdout",
     "output_type": "stream",
     "text": [
      "Model: \"model_1\"\n",
      "_________________________________________________________________\n",
      "Layer (type)                 Output Shape              Param #   \n",
      "=================================================================\n",
      "input_1 (InputLayer)         (None, 3072)              0         \n",
      "_________________________________________________________________\n",
      "hidden_layer1 (Dense)        (None, 512)               1573376   \n",
      "_________________________________________________________________\n",
      "batch_normalization_1 (Batch (None, 512)               2048      \n",
      "_________________________________________________________________\n",
      "hidden_layer2 (Dense)        (None, 256)               131328    \n",
      "_________________________________________________________________\n",
      "batch_normalization_2 (Batch (None, 256)               1024      \n",
      "_________________________________________________________________\n",
      "hidden_layer3 (Dense)        (None, 128)               32896     \n",
      "_________________________________________________________________\n",
      "batch_normalization_3 (Batch (None, 128)               512       \n",
      "_________________________________________________________________\n",
      "output (Dense)               (None, 10)                1290      \n",
      "=================================================================\n",
      "Total params: 1,742,474\n",
      "Trainable params: 1,740,682\n",
      "Non-trainable params: 1,792\n",
      "_________________________________________________________________\n",
      "Train on 50000 samples, validate on 10000 samples\n",
      "Epoch 1/50\n",
      "50000/50000 [==============================] - 3s 69us/step - loss: 2.2059 - accuracy: 0.2708 - val_loss: 2.1240 - val_accuracy: 0.1997\n",
      "Epoch 2/50\n",
      "50000/50000 [==============================] - 3s 62us/step - loss: 1.7331 - accuracy: 0.3961 - val_loss: 1.9843 - val_accuracy: 0.2845\n",
      "Epoch 3/50\n",
      "50000/50000 [==============================] - 3s 62us/step - loss: 1.6091 - accuracy: 0.4378 - val_loss: 1.8229 - val_accuracy: 0.3762\n",
      "Epoch 4/50\n",
      "50000/50000 [==============================] - 3s 62us/step - loss: 1.5370 - accuracy: 0.4637 - val_loss: 1.7054 - val_accuracy: 0.4175\n",
      "Epoch 5/50\n",
      "50000/50000 [==============================] - 3s 62us/step - loss: 1.4851 - accuracy: 0.4833 - val_loss: 1.6250 - val_accuracy: 0.4360\n",
      "Epoch 6/50\n",
      "50000/50000 [==============================] - 3s 61us/step - loss: 1.4405 - accuracy: 0.4976 - val_loss: 1.5860 - val_accuracy: 0.4475\n",
      "Epoch 7/50\n",
      "50000/50000 [==============================] - 3s 61us/step - loss: 1.4024 - accuracy: 0.5119 - val_loss: 1.5425 - val_accuracy: 0.4569\n",
      "Epoch 8/50\n",
      "50000/50000 [==============================] - 3s 61us/step - loss: 1.3688 - accuracy: 0.5239 - val_loss: 1.5255 - val_accuracy: 0.4625\n",
      "Epoch 9/50\n",
      "50000/50000 [==============================] - 3s 61us/step - loss: 1.3370 - accuracy: 0.5355 - val_loss: 1.4999 - val_accuracy: 0.4699\n",
      "Epoch 10/50\n",
      "50000/50000 [==============================] - 3s 61us/step - loss: 1.3072 - accuracy: 0.5468 - val_loss: 1.4896 - val_accuracy: 0.4787\n",
      "Epoch 11/50\n",
      "50000/50000 [==============================] - 3s 61us/step - loss: 1.2811 - accuracy: 0.5553 - val_loss: 1.4799 - val_accuracy: 0.4805\n",
      "Epoch 12/50\n",
      "50000/50000 [==============================] - 3s 61us/step - loss: 1.2542 - accuracy: 0.5664 - val_loss: 1.4851 - val_accuracy: 0.4760\n",
      "Epoch 13/50\n",
      "50000/50000 [==============================] - 3s 61us/step - loss: 1.2278 - accuracy: 0.5754 - val_loss: 1.4839 - val_accuracy: 0.4724\n",
      "Epoch 14/50\n",
      "50000/50000 [==============================] - 3s 61us/step - loss: 1.2038 - accuracy: 0.5848 - val_loss: 1.4738 - val_accuracy: 0.4820\n",
      "Epoch 15/50\n",
      "50000/50000 [==============================] - 3s 61us/step - loss: 1.1799 - accuracy: 0.5944 - val_loss: 1.4677 - val_accuracy: 0.4816\n",
      "Epoch 16/50\n",
      "50000/50000 [==============================] - 3s 61us/step - loss: 1.1582 - accuracy: 0.6022 - val_loss: 1.4705 - val_accuracy: 0.4833\n",
      "Epoch 17/50\n",
      "50000/50000 [==============================] - 3s 61us/step - loss: 1.1353 - accuracy: 0.6110 - val_loss: 1.4774 - val_accuracy: 0.4835\n",
      "Epoch 18/50\n",
      "50000/50000 [==============================] - 3s 62us/step - loss: 1.1126 - accuracy: 0.6210 - val_loss: 1.4721 - val_accuracy: 0.4838\n",
      "Epoch 19/50\n",
      "50000/50000 [==============================] - 3s 61us/step - loss: 1.0910 - accuracy: 0.6285 - val_loss: 1.4663 - val_accuracy: 0.4892\n",
      "Epoch 20/50\n",
      "50000/50000 [==============================] - 3s 61us/step - loss: 1.0688 - accuracy: 0.6362 - val_loss: 1.4850 - val_accuracy: 0.4851\n",
      "Epoch 21/50\n",
      "50000/50000 [==============================] - 3s 61us/step - loss: 1.0485 - accuracy: 0.6428 - val_loss: 1.4707 - val_accuracy: 0.4855\n",
      "Epoch 22/50\n",
      "50000/50000 [==============================] - 3s 62us/step - loss: 1.0282 - accuracy: 0.6511 - val_loss: 1.4729 - val_accuracy: 0.4860\n",
      "Epoch 23/50\n",
      "50000/50000 [==============================] - 3s 61us/step - loss: 1.0058 - accuracy: 0.6594 - val_loss: 1.4644 - val_accuracy: 0.4970\n",
      "Epoch 24/50\n",
      "50000/50000 [==============================] - 3s 62us/step - loss: 0.9861 - accuracy: 0.6694 - val_loss: 1.4858 - val_accuracy: 0.4866\n",
      "Epoch 25/50\n",
      "50000/50000 [==============================] - 3s 63us/step - loss: 0.9679 - accuracy: 0.6726 - val_loss: 1.4719 - val_accuracy: 0.4922\n",
      "Epoch 26/50\n",
      "50000/50000 [==============================] - 3s 64us/step - loss: 0.9450 - accuracy: 0.6839 - val_loss: 1.4831 - val_accuracy: 0.4907\n",
      "Epoch 27/50\n",
      "50000/50000 [==============================] - 3s 67us/step - loss: 0.9255 - accuracy: 0.6921 - val_loss: 1.4790 - val_accuracy: 0.4931\n",
      "Epoch 28/50\n",
      "50000/50000 [==============================] - 3s 62us/step - loss: 0.9058 - accuracy: 0.6996 - val_loss: 1.4784 - val_accuracy: 0.4924\n",
      "Epoch 29/50\n",
      "50000/50000 [==============================] - 3s 62us/step - loss: 0.8854 - accuracy: 0.7096 - val_loss: 1.4867 - val_accuracy: 0.4947\n",
      "Epoch 30/50\n",
      "50000/50000 [==============================] - 3s 62us/step - loss: 0.8660 - accuracy: 0.7153 - val_loss: 1.4876 - val_accuracy: 0.4939\n",
      "Epoch 31/50\n",
      "50000/50000 [==============================] - 3s 62us/step - loss: 0.8467 - accuracy: 0.7241 - val_loss: 1.4959 - val_accuracy: 0.4971\n",
      "Epoch 32/50\n",
      "50000/50000 [==============================] - 3s 62us/step - loss: 0.8245 - accuracy: 0.7337 - val_loss: 1.5112 - val_accuracy: 0.4859\n",
      "Epoch 33/50\n",
      "50000/50000 [==============================] - 3s 63us/step - loss: 0.8083 - accuracy: 0.7378 - val_loss: 1.5160 - val_accuracy: 0.4930\n",
      "Epoch 00033: early stopping\n"
     ]
    }
   ],
   "source": [
    "model = build_mlp(input_shape=x_train.shape[1:])\n",
    "model.summary()\n",
    "optimizer = keras.optimizers.SGD(lr=LEARNING_RATE, nesterov=True, momentum=MOMENTUM)\n",
    "model.compile(loss=\"categorical_crossentropy\", metrics=[\"accuracy\"], optimizer=optimizer)\n",
    "\n",
    "model.fit(x_train, y_train, \n",
    "          epochs=EPOCHS, \n",
    "          batch_size=BATCH_SIZE, \n",
    "          validation_data=(x_test, y_test), \n",
    "          shuffle=True,\n",
    "          callbacks=[earlystop]\n",
    "         )\n",
    "\n",
    "# Collect results\n",
    "train_loss = model.history.history[\"loss\"]\n",
    "valid_loss = model.history.history[\"val_loss\"]\n",
    "train_acc = model.history.history[\"accuracy\"]\n",
    "valid_acc = model.history.history[\"val_accuracy\"]"
   ]
  },
  {
   "cell_type": "code",
   "execution_count": 9,
   "metadata": {},
   "outputs": [
    {
     "data": {
      "image/png": "[encoded data removed]",
      "text/plain": [
       "<Figure size 432x288 with 1 Axes>"
      ]
     },
     "metadata": {
      "needs_background": "light"
     },
     "output_type": "display_data"
    },
    {
     "data": {
      "image/png": "[encoded data removed]",
      "text/plain": [
       "<Figure size 432x288 with 1 Axes>"
      ]
     },
     "metadata": {
      "needs_background": "light"
     },
     "output_type": "display_data"
    }
   ],
   "source": [
    "import matplotlib.pyplot as plt\n",
    "%matplotlib inline\n",
    "\n",
    "plt.plot(range(len(train_loss)), train_loss, label=\"train loss\")\n",
    "plt.plot(range(len(valid_loss)), valid_loss, label=\"valid loss\")\n",
    "plt.legend()\n",
    "plt.title(\"Loss\")\n",
    "plt.show()\n",
    "\n",
    "plt.plot(range(len(train_acc)), train_acc, label=\"train accuracy\")\n",
    "plt.plot(range(len(valid_acc)), valid_acc, label=\"valid accuracy\")\n",
    "plt.legend()\n",
    "plt.title(\"Accuracy\")\n",
    "plt.show()"
   ]
  },
  {
   "cell_type": "code",
   "execution_count": 12,
   "metadata": {},
   "outputs": [],
   "source": [
    "\"\"\"\n",
    "# 載入 Callbacks, 並將 monitor 設定為監控 validation loss\n",
    "\"\"\"\n",
    "from keras.callbacks import EarlyStopping\n",
    "\n",
    "earlystop = EarlyStopping(monitor=\"val_loss\", \n",
    "                          patience=25, \n",
    "                          verbose=1\n",
    "                          )"
   ]
  },
  {
   "cell_type": "code",
   "execution_count": 13,
   "metadata": {},
   "outputs": [
    {
     "name": "stdout",
     "output_type": "stream",
     "text": [
      "Model: \"model_3\"\n",
      "_________________________________________________________________\n",
      "Layer (type)                 Output Shape              Param #   \n",
      "=================================================================\n",
      "input_3 (InputLayer)         (None, 3072)              0         \n",
      "_________________________________________________________________\n",
      "hidden_layer1 (Dense)        (None, 512)               1573376   \n",
      "_________________________________________________________________\n",
      "batch_normalization_7 (Batch (None, 512)               2048      \n",
      "_________________________________________________________________\n",
      "hidden_layer2 (Dense)        (None, 256)               131328    \n",
      "_________________________________________________________________\n",
      "batch_normalization_8 (Batch (None, 256)               1024      \n",
      "_________________________________________________________________\n",
      "hidden_layer3 (Dense)        (None, 128)               32896     \n",
      "_________________________________________________________________\n",
      "batch_normalization_9 (Batch (None, 128)               512       \n",
      "_________________________________________________________________\n",
      "output (Dense)               (None, 10)                1290      \n",
      "=================================================================\n",
      "Total params: 1,742,474\n",
      "Trainable params: 1,740,682\n",
      "Non-trainable params: 1,792\n",
      "_________________________________________________________________\n",
      "Train on 50000 samples, validate on 10000 samples\n",
      "Epoch 1/50\n",
      "50000/50000 [==============================] - 3s 70us/step - loss: 2.2416 - accuracy: 0.2668 - val_loss: 2.1680 - val_accuracy: 0.1679\n",
      "Epoch 2/50\n",
      "50000/50000 [==============================] - 3s 63us/step - loss: 1.7466 - accuracy: 0.3930 - val_loss: 1.9732 - val_accuracy: 0.2775\n",
      "Epoch 3/50\n",
      "50000/50000 [==============================] - 3s 62us/step - loss: 1.6207 - accuracy: 0.4325 - val_loss: 1.8209 - val_accuracy: 0.3576\n",
      "Epoch 4/50\n",
      "50000/50000 [==============================] - 3s 62us/step - loss: 1.5470 - accuracy: 0.4593 - val_loss: 1.7326 - val_accuracy: 0.3888\n",
      "Epoch 5/50\n",
      "50000/50000 [==============================] - 3s 62us/step - loss: 1.4931 - accuracy: 0.4794 - val_loss: 1.6363 - val_accuracy: 0.4298\n",
      "Epoch 6/50\n",
      "50000/50000 [==============================] - 3s 62us/step - loss: 1.4486 - accuracy: 0.4950 - val_loss: 1.5984 - val_accuracy: 0.4421\n",
      "Epoch 7/50\n",
      "50000/50000 [==============================] - 3s 62us/step - loss: 1.4088 - accuracy: 0.5108 - val_loss: 1.5457 - val_accuracy: 0.4570\n",
      "Epoch 8/50\n",
      "50000/50000 [==============================] - 3s 62us/step - loss: 1.3737 - accuracy: 0.5230 - val_loss: 1.5280 - val_accuracy: 0.4625\n",
      "Epoch 9/50\n",
      "50000/50000 [==============================] - 3s 62us/step - loss: 1.3416 - accuracy: 0.5344 - val_loss: 1.5230 - val_accuracy: 0.4604\n",
      "Epoch 10/50\n",
      "50000/50000 [==============================] - 3s 62us/step - loss: 1.3123 - accuracy: 0.5443 - val_loss: 1.4995 - val_accuracy: 0.4691\n",
      "Epoch 11/50\n",
      "50000/50000 [==============================] - 3s 62us/step - loss: 1.2839 - accuracy: 0.5570 - val_loss: 1.5008 - val_accuracy: 0.4669\n",
      "Epoch 12/50\n",
      "50000/50000 [==============================] - 3s 62us/step - loss: 1.2575 - accuracy: 0.5639 - val_loss: 1.4837 - val_accuracy: 0.4767\n",
      "Epoch 13/50\n",
      "50000/50000 [==============================] - 3s 62us/step - loss: 1.2318 - accuracy: 0.5748 - val_loss: 1.4765 - val_accuracy: 0.4775\n",
      "Epoch 14/50\n",
      "50000/50000 [==============================] - 3s 62us/step - loss: 1.2055 - accuracy: 0.5849 - val_loss: 1.4745 - val_accuracy: 0.4832\n",
      "Epoch 15/50\n",
      "50000/50000 [==============================] - 3s 62us/step - loss: 1.1808 - accuracy: 0.5955 - val_loss: 1.4715 - val_accuracy: 0.4853\n",
      "Epoch 16/50\n",
      "50000/50000 [==============================] - 3s 62us/step - loss: 1.1567 - accuracy: 0.6019 - val_loss: 1.4790 - val_accuracy: 0.4852\n",
      "Epoch 17/50\n",
      "50000/50000 [==============================] - 3s 62us/step - loss: 1.1355 - accuracy: 0.6103 - val_loss: 1.4714 - val_accuracy: 0.4799\n",
      "Epoch 18/50\n",
      "50000/50000 [==============================] - 3s 63us/step - loss: 1.1104 - accuracy: 0.6203 - val_loss: 1.4699 - val_accuracy: 0.4849\n",
      "Epoch 19/50\n",
      "50000/50000 [==============================] - 3s 63us/step - loss: 1.0884 - accuracy: 0.6280 - val_loss: 1.4721 - val_accuracy: 0.4866\n",
      "Epoch 20/50\n",
      "50000/50000 [==============================] - 3s 64us/step - loss: 1.0674 - accuracy: 0.6372 - val_loss: 1.4569 - val_accuracy: 0.4911\n",
      "Epoch 21/50\n",
      "50000/50000 [==============================] - 3s 63us/step - loss: 1.0464 - accuracy: 0.6436 - val_loss: 1.4649 - val_accuracy: 0.4892\n",
      "Epoch 22/50\n",
      "50000/50000 [==============================] - 3s 63us/step - loss: 1.0225 - accuracy: 0.6547 - val_loss: 1.4773 - val_accuracy: 0.4889\n",
      "Epoch 23/50\n",
      "50000/50000 [==============================] - 3s 64us/step - loss: 1.0027 - accuracy: 0.6595 - val_loss: 1.4673 - val_accuracy: 0.4908\n",
      "Epoch 24/50\n",
      "50000/50000 [==============================] - 3s 63us/step - loss: 0.9810 - accuracy: 0.6697 - val_loss: 1.4668 - val_accuracy: 0.4940\n",
      "Epoch 25/50\n",
      "50000/50000 [==============================] - 3s 64us/step - loss: 0.9602 - accuracy: 0.6767 - val_loss: 1.4848 - val_accuracy: 0.4874\n",
      "Epoch 26/50\n",
      "50000/50000 [==============================] - 3s 64us/step - loss: 0.9413 - accuracy: 0.6829 - val_loss: 1.4798 - val_accuracy: 0.4906\n",
      "Epoch 27/50\n",
      "50000/50000 [==============================] - 3s 63us/step - loss: 0.9215 - accuracy: 0.6937 - val_loss: 1.4916 - val_accuracy: 0.4860\n",
      "Epoch 28/50\n",
      "50000/50000 [==============================] - 3s 64us/step - loss: 0.8985 - accuracy: 0.7032 - val_loss: 1.4838 - val_accuracy: 0.4941\n",
      "Epoch 29/50\n",
      "50000/50000 [==============================] - 3s 63us/step - loss: 0.8796 - accuracy: 0.7084 - val_loss: 1.4967 - val_accuracy: 0.4965\n",
      "Epoch 30/50\n",
      "50000/50000 [==============================] - 3s 63us/step - loss: 0.8601 - accuracy: 0.7171 - val_loss: 1.5063 - val_accuracy: 0.4885\n",
      "Epoch 31/50\n",
      "50000/50000 [==============================] - 3s 63us/step - loss: 0.8387 - accuracy: 0.7263 - val_loss: 1.5018 - val_accuracy: 0.4931\n",
      "Epoch 32/50\n",
      "50000/50000 [==============================] - 3s 63us/step - loss: 0.8221 - accuracy: 0.7294 - val_loss: 1.5186 - val_accuracy: 0.4952\n",
      "Epoch 33/50\n",
      "50000/50000 [==============================] - 3s 64us/step - loss: 0.7996 - accuracy: 0.7407 - val_loss: 1.5275 - val_accuracy: 0.4928\n",
      "Epoch 34/50\n",
      "50000/50000 [==============================] - 3s 63us/step - loss: 0.7821 - accuracy: 0.7481 - val_loss: 1.5396 - val_accuracy: 0.4921\n",
      "Epoch 35/50\n",
      "50000/50000 [==============================] - 3s 63us/step - loss: 0.7616 - accuracy: 0.7571 - val_loss: 1.5346 - val_accuracy: 0.4919\n",
      "Epoch 36/50\n",
      "50000/50000 [==============================] - 3s 64us/step - loss: 0.7436 - accuracy: 0.7631 - val_loss: 1.5473 - val_accuracy: 0.4911\n",
      "Epoch 37/50\n",
      "50000/50000 [==============================] - 3s 64us/step - loss: 0.7239 - accuracy: 0.7695 - val_loss: 1.5531 - val_accuracy: 0.4899\n",
      "Epoch 38/50\n",
      "50000/50000 [==============================] - 3s 63us/step - loss: 0.7062 - accuracy: 0.7775 - val_loss: 1.5738 - val_accuracy: 0.4889\n",
      "Epoch 39/50\n",
      "50000/50000 [==============================] - 3s 65us/step - loss: 0.6860 - accuracy: 0.7848 - val_loss: 1.5749 - val_accuracy: 0.4892\n",
      "Epoch 40/50\n",
      "50000/50000 [==============================] - 3s 65us/step - loss: 0.6688 - accuracy: 0.7928 - val_loss: 1.5923 - val_accuracy: 0.4912\n",
      "Epoch 41/50\n",
      "50000/50000 [==============================] - 3s 64us/step - loss: 0.6500 - accuracy: 0.7992 - val_loss: 1.5920 - val_accuracy: 0.4940\n",
      "Epoch 42/50\n",
      "50000/50000 [==============================] - 3s 64us/step - loss: 0.6335 - accuracy: 0.8059 - val_loss: 1.6159 - val_accuracy: 0.4877\n",
      "Epoch 43/50\n",
      "50000/50000 [==============================] - 3s 64us/step - loss: 0.6159 - accuracy: 0.8124 - val_loss: 1.6125 - val_accuracy: 0.4905\n",
      "Epoch 44/50\n",
      "50000/50000 [==============================] - 3s 64us/step - loss: 0.5984 - accuracy: 0.8204 - val_loss: 1.6180 - val_accuracy: 0.4932\n",
      "Epoch 45/50\n",
      "50000/50000 [==============================] - 3s 64us/step - loss: 0.5796 - accuracy: 0.8289 - val_loss: 1.6299 - val_accuracy: 0.4902\n",
      "Epoch 00045: early stopping\n"
     ]
    }
   ],
   "source": [
    "model = build_mlp(input_shape=x_train.shape[1:])\n",
    "model.summary()\n",
    "optimizer = keras.optimizers.SGD(lr=LEARNING_RATE, nesterov=True, momentum=MOMENTUM)\n",
    "model.compile(loss=\"categorical_crossentropy\", metrics=[\"accuracy\"], optimizer=optimizer)\n",
    "\n",
    "model.fit(x_train, y_train, \n",
    "          epochs=EPOCHS, \n",
    "          batch_size=BATCH_SIZE, \n",
    "          validation_data=(x_test, y_test), \n",
    "          shuffle=True,\n",
    "          callbacks=[earlystop]\n",
    "         )\n",
    "\n",
    "# Collect results\n",
    "train_loss = model.history.history[\"loss\"]\n",
    "valid_loss = model.history.history[\"val_loss\"]\n",
    "train_acc = model.history.history[\"accuracy\"]\n",
    "valid_acc = model.history.history[\"val_accuracy\"]"
   ]
  },
  {
   "cell_type": "code",
   "execution_count": 14,
   "metadata": {},
   "outputs": [
    {
     "data": {
      "image/png": "[encoded data removed]",
      "text/plain": [
       "<Figure size 432x288 with 1 Axes>"
      ]
     },
     "metadata": {
      "needs_background": "light"
     },
     "output_type": "display_data"
    },
    {
     "data": {
      "image/png": "[encoded data removed]",
      "text/plain": [
       "<Figure size 432x288 with 1 Axes>"
      ]
     },
     "metadata": {
      "needs_background": "light"
     },
     "output_type": "display_data"
    }
   ],
   "source": [
    "import matplotlib.pyplot as plt\n",
    "%matplotlib inline\n",
    "\n",
    "plt.plot(range(len(train_loss)), train_loss, label=\"train loss\")\n",
    "plt.plot(range(len(valid_loss)), valid_loss, label=\"valid loss\")\n",
    "plt.legend()\n",
    "plt.title(\"Loss\")\n",
    "plt.show()\n",
    "\n",
    "plt.plot(range(len(train_acc)), train_acc, label=\"train accuracy\")\n",
    "plt.plot(range(len(valid_acc)), valid_acc, label=\"valid accuracy\")\n",
    "plt.legend()\n",
    "plt.title(\"Accuracy\")\n",
    "plt.show()"
   ]
  },
  {
   "cell_type": "code",
   "execution_count": null,
   "metadata": {},
   "outputs": [],
   "source": []
  }
 ],
 "metadata": {
  "kernelspec": {
   "display_name": "Python 3",
   "language": "python",
   "name": "python3"
  },
  "language_info": {
   "codemirror_mode": {
    "name": "ipython",
    "version": 3
   },
   "file_extension": ".py",
   "mimetype": "text/x-python",
   "name": "python",
   "nbconvert_exporter": "python",
   "pygments_lexer": "ipython3",
   "version": "3.7.4"
  }
 },
 "nbformat": 4,
 "nbformat_minor": 2
}
