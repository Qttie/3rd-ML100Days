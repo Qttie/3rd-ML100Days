{
 "cells": [
  {
   "cell_type": "markdown",
   "metadata": {},
   "source": [
    "## Work\n",
    "1. 試比較有 BN 在 Batch_size = 2, 16, 32, 128, 256 下的差異\n",
    "2. 請嘗試將 BN 放在 Activation 之前，並比較訓練結果\n",
    "3. 請於 BN 放在 Input Layer 後，並比較結果"
   ]
  },
  {
   "cell_type": "code",
   "execution_count": 1,
   "metadata": {},
   "outputs": [
    {
     "name": "stderr",
     "output_type": "stream",
     "text": [
      "Using TensorFlow backend.\n"
     ]
    }
   ],
   "source": [
    "import os\n",
    "import keras\n",
    "import itertools\n",
    "# Disable GPU\n",
    "os.environ[\"CUDA_VISIBLE_DEVICES\"] = \"gpu\""
   ]
  },
  {
   "cell_type": "code",
   "execution_count": 2,
   "metadata": {},
   "outputs": [],
   "source": [
    "train, test = keras.datasets.cifar10.load_data()"
   ]
  },
  {
   "cell_type": "code",
   "execution_count": 3,
   "metadata": {},
   "outputs": [],
   "source": [
    "## 資料前處理\n",
    "def preproc_x(x, flatten=True):\n",
    "    x = x / 255.\n",
    "    if flatten:\n",
    "        x = x.reshape((len(x), -1))\n",
    "    return x\n",
    "\n",
    "def preproc_y(y, num_classes=10):\n",
    "    if y.shape[-1] == 1:\n",
    "        y = keras.utils.to_categorical(y, num_classes)\n",
    "    return y    "
   ]
  },
  {
   "cell_type": "code",
   "execution_count": 4,
   "metadata": {},
   "outputs": [],
   "source": [
    "x_train, y_train = train\n",
    "x_test, y_test = test\n",
    "\n",
    "# Preproc the inputs\n",
    "x_train = preproc_x(x_train)\n",
    "x_test = preproc_x(x_test)\n",
    "\n",
    "# Preprc the outputs\n",
    "y_train = preproc_y(y_train)\n",
    "y_test = preproc_y(y_test)"
   ]
  },
  {
   "cell_type": "code",
   "execution_count": 5,
   "metadata": {},
   "outputs": [],
   "source": [
    "from keras.layers import BatchNormalization\n",
    "\n",
    "\"\"\"\n",
    "建立神經網路，並加入 BN layer\n",
    "\"\"\"\n",
    "def build_mlp(input_shape, output_units=10, num_neurons=[512, 256, 128]):\n",
    "    input_layer = keras.layers.Input(input_shape)\n",
    "    \n",
    "    for i, n_units in enumerate(num_neurons):\n",
    "        if i == 0:\n",
    "            x = keras.layers.Dense(units=n_units, \n",
    "                                   activation=\"relu\", \n",
    "                                   name=\"hidden_layer\"+str(i+1))(input_layer)\n",
    "            x = BatchNormalization()(x)\n",
    "        else:\n",
    "            x = keras.layers.Dense(units=n_units, \n",
    "                                   activation=\"relu\", \n",
    "                                   name=\"hidden_layer\"+str(i+1))(x)\n",
    "            x = BatchNormalization()(x)\n",
    "    \n",
    "    out = keras.layers.Dense(units=output_units, activation=\"softmax\", name=\"output\")(x)\n",
    "    \n",
    "    model = keras.models.Model(inputs=[input_layer], outputs=[out])\n",
    "    return model"
   ]
  },
  {
   "cell_type": "code",
   "execution_count": 6,
   "metadata": {},
   "outputs": [],
   "source": [
    "## 超參數設定\n",
    "LEARNING_RATE = 1e-3\n",
    "EPOCHS = 50\n",
    "BATCH_SIZE = 1024\n",
    "MOMENTUM = 0.95"
   ]
  },
  {
   "cell_type": "code",
   "execution_count": 8,
   "metadata": {
    "scrolled": true
   },
   "outputs": [
    {
     "name": "stdout",
     "output_type": "stream",
     "text": [
      "Model: \"model_2\"\n",
      "_________________________________________________________________\n",
      "Layer (type)                 Output Shape              Param #   \n",
      "=================================================================\n",
      "input_2 (InputLayer)         (None, 3072)              0         \n",
      "_________________________________________________________________\n",
      "hidden_layer1 (Dense)        (None, 512)               1573376   \n",
      "_________________________________________________________________\n",
      "batch_normalization_4 (Batch (None, 512)               2048      \n",
      "_________________________________________________________________\n",
      "hidden_layer2 (Dense)        (None, 256)               131328    \n",
      "_________________________________________________________________\n",
      "batch_normalization_5 (Batch (None, 256)               1024      \n",
      "_________________________________________________________________\n",
      "hidden_layer3 (Dense)        (None, 128)               32896     \n",
      "_________________________________________________________________\n",
      "batch_normalization_6 (Batch (None, 128)               512       \n",
      "_________________________________________________________________\n",
      "output (Dense)               (None, 10)                1290      \n",
      "=================================================================\n",
      "Total params: 1,742,474\n",
      "Trainable params: 1,740,682\n",
      "Non-trainable params: 1,792\n",
      "_________________________________________________________________\n",
      "Train on 50000 samples, validate on 10000 samples\n",
      "Epoch 1/50\n",
      "50000/50000 [==============================] - 4s 71us/step - loss: 2.2265 - accuracy: 0.2671 - val_loss: 2.1473 - val_accuracy: 0.2071\n",
      "Epoch 2/50\n",
      "50000/50000 [==============================] - 3s 63us/step - loss: 1.7614 - accuracy: 0.3876 - val_loss: 1.9936 - val_accuracy: 0.2908\n",
      "Epoch 3/50\n",
      "50000/50000 [==============================] - 3s 63us/step - loss: 1.6330 - accuracy: 0.4312 - val_loss: 1.8523 - val_accuracy: 0.3679\n",
      "Epoch 4/50\n",
      "50000/50000 [==============================] - 3s 63us/step - loss: 1.5573 - accuracy: 0.4584 - val_loss: 1.7432 - val_accuracy: 0.4055\n",
      "Epoch 5/50\n",
      "50000/50000 [==============================] - 3s 63us/step - loss: 1.5000 - accuracy: 0.4798 - val_loss: 1.6603 - val_accuracy: 0.4302\n",
      "Epoch 6/50\n",
      "50000/50000 [==============================] - 3s 63us/step - loss: 1.4513 - accuracy: 0.4945 - val_loss: 1.5997 - val_accuracy: 0.4425\n",
      "Epoch 7/50\n",
      "50000/50000 [==============================] - 3s 63us/step - loss: 1.4104 - accuracy: 0.5093 - val_loss: 1.5619 - val_accuracy: 0.4504\n",
      "Epoch 8/50\n",
      "50000/50000 [==============================] - 3s 62us/step - loss: 1.3729 - accuracy: 0.5223 - val_loss: 1.5384 - val_accuracy: 0.4593\n",
      "Epoch 9/50\n",
      "50000/50000 [==============================] - 3s 63us/step - loss: 1.3407 - accuracy: 0.5332 - val_loss: 1.5146 - val_accuracy: 0.4696\n",
      "Epoch 10/50\n",
      "50000/50000 [==============================] - 3s 63us/step - loss: 1.3078 - accuracy: 0.5452 - val_loss: 1.5038 - val_accuracy: 0.4728\n",
      "Epoch 11/50\n",
      "50000/50000 [==============================] - 3s 63us/step - loss: 1.2793 - accuracy: 0.5559 - val_loss: 1.5045 - val_accuracy: 0.4716\n",
      "Epoch 12/50\n",
      "50000/50000 [==============================] - 3s 63us/step - loss: 1.2509 - accuracy: 0.5654 - val_loss: 1.4902 - val_accuracy: 0.4740\n",
      "Epoch 13/50\n",
      "50000/50000 [==============================] - 3s 63us/step - loss: 1.2250 - accuracy: 0.5759 - val_loss: 1.4793 - val_accuracy: 0.4789\n",
      "Epoch 14/50\n",
      "50000/50000 [==============================] - 3s 63us/step - loss: 1.1994 - accuracy: 0.5864 - val_loss: 1.4843 - val_accuracy: 0.4738\n",
      "Epoch 15/50\n",
      "50000/50000 [==============================] - 3s 64us/step - loss: 1.1757 - accuracy: 0.5950 - val_loss: 1.4698 - val_accuracy: 0.4789\n",
      "Epoch 16/50\n",
      "50000/50000 [==============================] - 3s 64us/step - loss: 1.1516 - accuracy: 0.6039 - val_loss: 1.4668 - val_accuracy: 0.4838\n",
      "Epoch 17/50\n",
      "50000/50000 [==============================] - 3s 64us/step - loss: 1.1257 - accuracy: 0.6128 - val_loss: 1.4567 - val_accuracy: 0.4861\n",
      "Epoch 18/50\n",
      "50000/50000 [==============================] - 3s 64us/step - loss: 1.1040 - accuracy: 0.6220 - val_loss: 1.4649 - val_accuracy: 0.4871\n",
      "Epoch 19/50\n",
      "50000/50000 [==============================] - 3s 64us/step - loss: 1.0823 - accuracy: 0.6300 - val_loss: 1.4650 - val_accuracy: 0.4879\n",
      "Epoch 20/50\n",
      "50000/50000 [==============================] - 3s 64us/step - loss: 1.0606 - accuracy: 0.6387 - val_loss: 1.4673 - val_accuracy: 0.4857\n",
      "Epoch 21/50\n",
      "50000/50000 [==============================] - 3s 64us/step - loss: 1.0383 - accuracy: 0.6466 - val_loss: 1.4727 - val_accuracy: 0.4933\n",
      "Epoch 22/50\n",
      "50000/50000 [==============================] - 3s 64us/step - loss: 1.0182 - accuracy: 0.6556 - val_loss: 1.4768 - val_accuracy: 0.4872\n",
      "Epoch 23/50\n",
      "50000/50000 [==============================] - 3s 64us/step - loss: 0.9975 - accuracy: 0.6625 - val_loss: 1.4707 - val_accuracy: 0.4908\n",
      "Epoch 24/50\n",
      "50000/50000 [==============================] - 3s 64us/step - loss: 0.9762 - accuracy: 0.6711 - val_loss: 1.4779 - val_accuracy: 0.4889\n",
      "Epoch 25/50\n",
      "50000/50000 [==============================] - 3s 64us/step - loss: 0.9535 - accuracy: 0.6780 - val_loss: 1.4665 - val_accuracy: 0.4896\n",
      "Epoch 26/50\n",
      "50000/50000 [==============================] - 3s 64us/step - loss: 0.9349 - accuracy: 0.6862 - val_loss: 1.4654 - val_accuracy: 0.4931\n",
      "Epoch 27/50\n",
      "50000/50000 [==============================] - 3s 64us/step - loss: 0.9150 - accuracy: 0.6946 - val_loss: 1.4840 - val_accuracy: 0.4890\n",
      "Epoch 28/50\n",
      "50000/50000 [==============================] - 3s 64us/step - loss: 0.8938 - accuracy: 0.7021 - val_loss: 1.4736 - val_accuracy: 0.4982\n",
      "Epoch 29/50\n",
      "50000/50000 [==============================] - 3s 64us/step - loss: 0.8738 - accuracy: 0.7110 - val_loss: 1.4882 - val_accuracy: 0.4958\n",
      "Epoch 30/50\n",
      "50000/50000 [==============================] - 3s 64us/step - loss: 0.8536 - accuracy: 0.7192 - val_loss: 1.4869 - val_accuracy: 0.4914\n",
      "Epoch 31/50\n",
      "50000/50000 [==============================] - 3s 64us/step - loss: 0.8341 - accuracy: 0.7264 - val_loss: 1.4981 - val_accuracy: 0.4906\n",
      "Epoch 32/50\n",
      "50000/50000 [==============================] - 3s 64us/step - loss: 0.8157 - accuracy: 0.7330 - val_loss: 1.5072 - val_accuracy: 0.4907\n",
      "Epoch 33/50\n",
      "50000/50000 [==============================] - 3s 64us/step - loss: 0.7934 - accuracy: 0.7424 - val_loss: 1.5038 - val_accuracy: 0.4976\n",
      "Epoch 34/50\n",
      "50000/50000 [==============================] - 3s 64us/step - loss: 0.7772 - accuracy: 0.7497 - val_loss: 1.5224 - val_accuracy: 0.4858\n",
      "Epoch 35/50\n",
      "50000/50000 [==============================] - 3s 64us/step - loss: 0.7582 - accuracy: 0.7572 - val_loss: 1.5207 - val_accuracy: 0.4939\n",
      "Epoch 36/50\n",
      "50000/50000 [==============================] - 3s 64us/step - loss: 0.7398 - accuracy: 0.7625 - val_loss: 1.5365 - val_accuracy: 0.4877\n",
      "Epoch 37/50\n",
      "50000/50000 [==============================] - 3s 64us/step - loss: 0.7180 - accuracy: 0.7732 - val_loss: 1.5380 - val_accuracy: 0.4939\n",
      "Epoch 38/50\n",
      "50000/50000 [==============================] - 3s 64us/step - loss: 0.6984 - accuracy: 0.7805 - val_loss: 1.5519 - val_accuracy: 0.4905\n",
      "Epoch 39/50\n",
      "50000/50000 [==============================] - 3s 64us/step - loss: 0.6803 - accuracy: 0.7885 - val_loss: 1.5502 - val_accuracy: 0.4932\n",
      "Epoch 40/50\n",
      "50000/50000 [==============================] - 3s 64us/step - loss: 0.6628 - accuracy: 0.7957 - val_loss: 1.5818 - val_accuracy: 0.4831\n",
      "Epoch 41/50\n",
      "50000/50000 [==============================] - 3s 64us/step - loss: 0.6446 - accuracy: 0.8038 - val_loss: 1.5920 - val_accuracy: 0.4873\n",
      "Epoch 42/50\n",
      "50000/50000 [==============================] - 3s 64us/step - loss: 0.6268 - accuracy: 0.8100 - val_loss: 1.5872 - val_accuracy: 0.4969\n",
      "Epoch 43/50\n",
      "50000/50000 [==============================] - 3s 64us/step - loss: 0.6091 - accuracy: 0.8176 - val_loss: 1.6153 - val_accuracy: 0.4822\n",
      "Epoch 44/50\n",
      "50000/50000 [==============================] - 3s 64us/step - loss: 0.5906 - accuracy: 0.8244 - val_loss: 1.6028 - val_accuracy: 0.4906\n",
      "Epoch 45/50\n",
      "50000/50000 [==============================] - 3s 64us/step - loss: 0.5732 - accuracy: 0.8302 - val_loss: 1.6077 - val_accuracy: 0.4914\n",
      "Epoch 46/50\n"
     ]
    },
    {
     "name": "stdout",
     "output_type": "stream",
     "text": [
      "50000/50000 [==============================] - 3s 64us/step - loss: 0.5571 - accuracy: 0.8386 - val_loss: 1.6337 - val_accuracy: 0.4857\n",
      "Epoch 47/50\n",
      "50000/50000 [==============================] - 3s 64us/step - loss: 0.5414 - accuracy: 0.8427 - val_loss: 1.6553 - val_accuracy: 0.4839\n",
      "Epoch 48/50\n",
      "50000/50000 [==============================] - 3s 64us/step - loss: 0.5249 - accuracy: 0.8508 - val_loss: 1.6744 - val_accuracy: 0.4907\n",
      "Epoch 49/50\n",
      "50000/50000 [==============================] - 3s 64us/step - loss: 0.5065 - accuracy: 0.8573 - val_loss: 1.6423 - val_accuracy: 0.4892\n",
      "Epoch 50/50\n",
      "50000/50000 [==============================] - 3s 64us/step - loss: 0.4909 - accuracy: 0.8642 - val_loss: 1.6938 - val_accuracy: 0.4860\n"
     ]
    }
   ],
   "source": [
    "model = build_mlp(input_shape=x_train.shape[1:])\n",
    "model.summary()\n",
    "optimizer = keras.optimizers.SGD(lr=LEARNING_RATE, nesterov=True, momentum=MOMENTUM)\n",
    "model.compile(loss=\"categorical_crossentropy\", metrics=[\"accuracy\"], optimizer=optimizer)\n",
    "\n",
    "model.fit(x_train, y_train, \n",
    "          epochs=EPOCHS, \n",
    "          batch_size=BATCH_SIZE, \n",
    "          validation_data=(x_test, y_test), \n",
    "          shuffle=True)\n",
    "\n",
    "# Collect results\n",
    "train_loss = model.history.history[\"loss\"]\n",
    "valid_loss = model.history.history[\"val_loss\"]\n",
    "train_acc = model.history.history[\"accuracy\"]\n",
    "valid_acc = model.history.history[\"val_accuracy\"]"
   ]
  },
  {
   "cell_type": "code",
   "execution_count": 9,
   "metadata": {},
   "outputs": [
    {
     "data": {
      "image/png": "[encoded data removed]",
      "text/plain": [
       "<Figure size 432x288 with 1 Axes>"
      ]
     },
     "metadata": {
      "needs_background": "light"
     },
     "output_type": "display_data"
    },
    {
     "data": {
      "image/png": "[encoded data removed]",
      "text/plain": [
       "<Figure size 432x288 with 1 Axes>"
      ]
     },
     "metadata": {
      "needs_background": "light"
     },
     "output_type": "display_data"
    }
   ],
   "source": [
    "import matplotlib.pyplot as plt\n",
    "%matplotlib inline\n",
    "\n",
    "plt.plot(range(len(train_loss)), train_loss, label=\"train loss\")\n",
    "plt.plot(range(len(valid_loss)), valid_loss, label=\"valid loss\")\n",
    "plt.legend()\n",
    "plt.title(\"Loss\")\n",
    "plt.show()\n",
    "\n",
    "plt.plot(range(len(train_acc)), train_acc, label=\"train accuracy\")\n",
    "plt.plot(range(len(valid_acc)), valid_acc, label=\"valid accuracy\")\n",
    "plt.legend()\n",
    "plt.title(\"Accuracy\")\n",
    "plt.show()"
   ]
  },
  {
   "cell_type": "code",
   "execution_count": null,
   "metadata": {},
   "outputs": [],
   "source": []
  }
 ],
 "metadata": {
  "kernelspec": {
   "display_name": "Python 3",
   "language": "python",
   "name": "python3"
  },
  "language_info": {
   "codemirror_mode": {
    "name": "ipython",
    "version": 3
   },
   "file_extension": ".py",
   "mimetype": "text/x-python",
   "name": "python",
   "nbconvert_exporter": "python",
   "pygments_lexer": "ipython3",
   "version": "3.7.4"
  }
 },
 "nbformat": 4,
 "nbformat_minor": 2
}
